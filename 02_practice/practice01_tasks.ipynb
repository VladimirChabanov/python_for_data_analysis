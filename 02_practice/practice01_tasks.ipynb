{
  "nbformat": 4,
  "nbformat_minor": 0,
  "metadata": {
    "colab": {
      "provenance": []
    },
    "kernelspec": {
      "name": "python3",
      "display_name": "Python 3"
    }
  },
  "cells": [
    {
      "cell_type": "markdown",
      "metadata": {
        "id": "u-BCmwuwhTPH"
      },
      "source": [
        "# Практика решения простейших задач. Занятие 1"
      ]
    },
    {
      "cell_type": "markdown",
      "metadata": {
        "id": "VZoOcdgsixQX"
      },
      "source": [
        "## Задача 1\n",
        "\n",
        "Пользователь вводит два числа $a$ и $b$ через пробел. Вычислите <a href=\"https://ru.wikipedia.org/wiki/Деление_(математика)\">частное</a> этих чисел. Гарантируется, что $b$ не равно 0. Результат выведите на экран."
      ]
    },
    {
      "cell_type": "code",
      "metadata": {
        "id": "Lqoz7oAHmBeR"
      },
      "source": [
        "# Ваш код здесь"
      ],
      "execution_count": null,
      "outputs": []
    },
    {
      "cell_type": "markdown",
      "metadata": {
        "id": "-VhzjdWwhkoj"
      },
      "source": [
        "## Задача 2\n",
        "Пользователь вводит два числа $a$ и $b$ через пробел. Гарантируется, что $a$ больше 0. Вычислите $a^{b}$. Результат выведите на экран."
      ]
    },
    {
      "cell_type": "code",
      "metadata": {
        "id": "ilT12yHyhS_P"
      },
      "source": [
        "# Ваш код здесь"
      ],
      "execution_count": null,
      "outputs": []
    },
    {
      "cell_type": "markdown",
      "metadata": {
        "id": "OP_WXaTbirOU"
      },
      "source": [
        "## Задача 3\n",
        "\n",
        "Вычислите длину гипотенузы в [прямоугольном треугольнике](https://ru.wikipedia.org/wiki/Прямоугольный_треугольник) со сторонами $a$ и $b$. Два числа $a > 0$ и $b > 0$, каждое в <u>отдельной строке</u>. Результат выведите на экран.\n",
        "\n",
        "![](https://upload.wikimedia.org/wikipedia/commons/thumb/6/6f/Rtriangle.svg/220px-Rtriangle.svg.png)"
      ]
    },
    {
      "cell_type": "code",
      "metadata": {
        "id": "HJwFtWuuivau"
      },
      "source": [
        "# Ваш код здесь"
      ],
      "execution_count": null,
      "outputs": []
    },
    {
      "cell_type": "markdown",
      "metadata": {
        "id": "CEritPIar0wS"
      },
      "source": [
        "## Задача 4\n",
        "\n",
        "Вычислите приближённое значение числа $\\pi$ по формуле: $\\pi \\approx {\\sqrt {12}}\\,\\left(1-{\\frac {1}{3\\cdot 3}}+{\\frac {1}{5\\cdot 3^{2}}}-{\\frac {1}{7\\cdot 3^{3}}}+{\\frac {1}{9\\cdot 3^{4}}}-{\\frac {1}{11\\cdot 3^{5}}} \\right)$"
      ]
    },
    {
      "cell_type": "code",
      "metadata": {
        "id": "371GLndfi4Hi"
      },
      "source": [
        "# Ваш код здесь"
      ],
      "execution_count": null,
      "outputs": []
    },
    {
      "cell_type": "markdown",
      "metadata": {
        "id": "xowGvSPE_t5I"
      },
      "source": [
        "## Задача 5\n",
        "\n",
        "Взрослый человек за сутки при дыхании в среднем использует 0.5 литров кислорода. 50-летний дуб за год выделяет 20 литров кислорода, а 25 – летний тополь – около 32 литров. Сколько кислорода в год (365 дней) необходимо для жизни одного человека? Сколько тополей должны работать, чтобы обеспечить кислородом одного человека, а дубов? Выведите на экран 3 числа через пробел, в порядке в котором задаются вопросы.\n",
        "\n",
        "<sup>* Деревья растут целиком.</sup>"
      ]
    },
    {
      "cell_type": "code",
      "metadata": {
        "id": "4N9zyDAc_uPH"
      },
      "source": [
        "# Ваш код здесь"
      ],
      "execution_count": null,
      "outputs": []
    },
    {
      "cell_type": "markdown",
      "metadata": {
        "id": "jKd_Nzrf98Su"
      },
      "source": [
        "## Задача 6\n",
        "\n",
        "Напишите программу вычисляющую: сумму, разность, произведение, частное двух чисел $a$ и $b$. Результат вывести на экран.  \n",
        "Числа вводятся пользователем, через пробел. Гарантируется, что $b$ не равно 0.\n",
        "\n",
        "**Пример вывода**\n",
        "\n",
        "Сумма: 24  \n",
        "Разность: 6  \n",
        "Произведение: 128  \n",
        "Частное: 2.0"
      ]
    },
    {
      "cell_type": "code",
      "metadata": {
        "id": "x7Ngy1o098v-"
      },
      "source": [
        "# Ваш код здесь"
      ],
      "execution_count": null,
      "outputs": []
    },
    {
      "cell_type": "markdown",
      "metadata": {
        "id": "U3MZW7_HzU_j"
      },
      "source": [
        "## Задача 7\n",
        "\n",
        "Напишите программу вычисляющую [индекс массы тела](https://ru.wikipedia.org/wiki/Индекс_массы_тела) $I = \\frac{m}{h^2}$, при этом $m$ — масса тела в килограммах, а $h$ — рост в метрах. Результат выведите на экран.  \n",
        "Данные вводятся пользователем через пробел в порядке: $m$, затем $h$.\n",
        "\n",
        "<img src=\"http://itd0.mycdn.me/image?id=870683666206&t=20&plc=MOBILE&tkn=*VyyuCkC8Hc96Fbnayu4ORYxfr2g\" width=\"500px\">"
      ]
    },
    {
      "cell_type": "code",
      "metadata": {
        "id": "lb4Eo5UX0Ruv"
      },
      "source": [
        "# Ваш код здесь"
      ],
      "execution_count": null,
      "outputs": []
    },
    {
      "cell_type": "markdown",
      "metadata": {
        "id": "Z4G7XKb4u2R9"
      },
      "source": [
        "## Задача 8\n",
        "\n",
        "Банкомату требуется выдать сумму $N$ рублей. У банкомата в наличии не ограниченное количество купюр номиналом: 5000, 1000, 500, 200, 100 рублей. Вычислите и выведите на экран какое количество купюр каждого номинала должен выдать банкомат, при условии, что их сумма должна быть минимальной из всех возможных комбинаций.  \n",
        "Число $N$ кратно 100 и вводится пользователем.\n",
        "\n",
        "**Пример вывода (для суммы 27300)**:\n",
        "5 2 0 1 1\n",
        "\n",
        "**Пояснение**:\n",
        "5 по 5000 рублей; 2 по 1000 рублей; 0 по 500 рублей; 1 по 200 рублей; 1 по 100 рублей\n",
        "\n"
      ]
    },
    {
      "cell_type": "code",
      "metadata": {
        "id": "mUAzYn7mxyPU"
      },
      "source": [
        "# Ваш код здесь"
      ],
      "execution_count": null,
      "outputs": []
    },
    {
      "cell_type": "markdown",
      "metadata": {
        "id": "yrYMutyLbzdr"
      },
      "source": [
        "## Задача 9\n",
        "\n",
        "Пользователь вводит 2 целых числа через пробел. Определите и выведите на экран максимальное из них.  \n",
        "Возможная блок-схема:\n",
        "\n",
        "<img src=\"data:image/png;base64,iVBORw0KGgoAAAANSUhEUgAAAUsAAAFTCAYAAACwMi5oAAAgAElEQVR4Xu19DXxU1bXvGsg3+ZiQWLgKPBIZsaZPWpHygCCW8opPnleehaQWwsuVp6kCQSK3XCUgn1oqJgKhbfThzUtIbQL24fVSoQ+pSAJFlBZfY8XBhMeHF2pCZpKQb5j724ecvJNhJnNm5nzsc87//H6tZGafvdf6r7X+e629z9ljI1xAAAgAASAQEAFbwBZoAASAABAAAgSyhBMAASAABGQgALKUARKaAAEgAARAlvABIAAEgIAMBECWMkBCE58IpBHRFCL6dlJS0kSPxzO2u7s7pbe3d1hvb+9QIl2XeDwRERHXIyIirkVFRTXZbLZzbrf7EyL6MxEdJ6IG2BQIBIsAyDJYxKzdfiIRzU9ISPiRzWZLmTx5cueMGTOSMjIyItPS0mjkyJGUlJREMTExuqPU2dlJbrebLl++TA0NDVRXV9dz5MgR94kTJ2I8Hk9Ta2vrb4hoDxExEsUFBAIiALIMCBEaMIK02+2rIiMjHbm5uRHz58+PmzRpkmGBOXnyJO3Zs6e9rKyst6enx+lyubb0EadhdYLg6iMAslQfYyOPMDs5OXnrqFGjbi8sLByelZVlZF18yl5dXU2bNm26evHixa+am5tXEtFB0ykJhRRBAGSpCIym6yQ6MTGxNCYm5rGioqKEBQsWmE5Bb4UqKyupoKCgtbOz87ctLS15RNRleqWhYFAIgCyDgssSjafa7faqrKyslJKSktjIyEhLKM2U7OnpoaVLl3ZUV1c3uVyubCI6ZhnloWhABECWASGyVIMf22y2yrKyMlq0aJGlFJcqW15eTrm5ueTxeFhK/WvLAgHFByAAsoRDiAjkJSUlFe3fvz9u2rRplkeltraW5syZ0+52uwuIqNTygAAAXZ+FA/z8IJCTnJz8qw8++CDu3nvv5UcqnSX59NNP6cEHH2xvbm7+CRFV6CwOhtcZAWSWOhuAg+EzhwwZcqSmpmbIlCnsGXNcUgSOHz9OmZmZN27cuDGDiGqAjnURAFla1/ZM8yF2u/3c9u3bR+fk5FgbiUG0r6iooPz8/Asul2ssEd0AUNZEAGRpTbsLWsfGxhbPmzfvyfLy8mEWhkGW6osWLbq2d+/eNzo6OlbIugGNTIcAyNJ0JpWt0F2RkZF1Fy5ciBgxYoTsm6za8MqVKzR69Gj2xk8GEX1hVRysrDfI0qLWT0hIeH3ZsmWLN2/ePMSiEASt9urVq2/s2LFjV2tr61NB34wbDI8AyNLwJgxJgSFRUVHtTqczesyYMSF1YMWbzp8/Tw6Ho6u7uzsOa5fW8wCQpfVszjR+dMqUKWXHjh2zW1P90LWeOnWq6/jx47lE9E7oveBOIyIAsjSi1cKUOT4+/heFhYVPr1q1KsyeiJqamoi9O75mzRqSPszO3rWur68XPjfTtWXLFnbwxi/b2tqeMZNe0CUwAiDLwBiZrkVqaurpqqqqe2fOnBm2blYjy8OHD1N2dvanjY2NE8IGDx0YCgGQpaHMpYyw8fHxzZ999pl99OjRYXcolyxZprlw4UJhvAkTJlBVVZXw7127dtH69evZY0zEXjFkzzQWFxcL361YsYJKS2++aZiXlyd8ztpt3LiR1q5d2y+72N/48eOpo6NjwH01NTUDMt5wFb5w4QLdc889rra2tuRw+8L9xkIAZGkseyki7dChQ3uuXbsWER0dHXZ/csiSkSAjOEaYKSkpwr/Zxc7H9EeWW7duFdqwMt57DHY/y4pZ2c/I8cUXX6TFixcTI0v23aVLlwRiPXXqFC1ZskQgZvadEldXVxcNGzas9/r169Y5jkkJ4EzQB8jSBEYMUgVm8xsejyfI23w3F4ns4MFbz8zdsGGDzzVLcT1zMLJkGaR4idkie8uIEaQ/smQ7+ywbFduJ902fPl1YV1XqstmEsEHsKAWoQfqBwQ1iKCXF1Dqz9C6NmS6MSJ955hl2fiStW7dOyPykZTh7TCc7O5tOnz7dr7pYUvsjy9TU1Fs2m1jb9PR0xcgSmaWSnmisvkCWxrKXItJqvWbJMsmjR4/2rzlKd8oZQWZmZvbrxdYmX3rpJXrhhRdIzAh5yiyxZqmICxqyE5ClIc0WntBa74ZLybK9vV3I8lg57f1YkZhZepOlSKiBMkst1iyxGx6e7xn5bpClka0XouxaP2cpXdecPXs2Pf300/Tee+/1Z5qiGtIynG3OiBknK9nZNWrUKDpx4gT98Y9/7N+08d7gUXs3HM9Zhuh0JrgNZGkCI4agAt7gCQE0dgve4AkROBPcBrI0gRFDUAHvhocAGt4NDwE0E90CsjSRMYNRBacOBYPWzbY4dSh4zMx0B8jSTNYMThecZxkEXjjPMgiwTNoUZGlSw8pRCyely0HpZhuclC4fK7O2BFma1bLy9MJv8MjACb/BIwMkCzQBWVrAyAFUxK87DgIQft0RASIiALKELzAE8LvhPvwAvxuO4JAiALKEP4gI5CUlJRXt378/TnqIr1XhYQ/Iz5kzp93tdhcQ0c1z4nBZGgGQpaXNf4vyP7bZbJVlZWVsQ8OyyJSXl1Nubi55PB52VNGvLQsEFB+AAMgSDuGNwFS73V6VlZWVUlJSEhsZaZ1jG3t6etgpSB3V1dVNLpcrm4iOwT2AANYs4QODIRCdmJhYGhMT81hRUVGCkmdB8go7O+yjoKCgtbOz87ctLS15RNTFq6yQSx8EkFnqg7tRRp2dnJy8ddSoUbcXFhYOZ4f1mu2qrq5mP0B29eLFi181NzevJKJbTzE2m9LQJyQEQJYhwWa5m+bb7fZVkZGRjtzc3Ij58+fHTZo0ybAgnDx5kvbs2dNeVlbW29PT43S5XFuIaI9hFYLgmiAAstQEZtMMMpGI5ickJPzIZrOlTJ48uXPGjBlJGRkZkWlpaTRy5EhKSkqimJgY3RXu7Owkt9tNly9fpoaGBqqrq+s5cuSI+8SJEzEej6eptbX1N30E+YnuwkIAQyAAsjSEmbgUMo2IphDRt5OSkiZ6PJ6x3d3dKb29vcN6e3uH6vwbNZ6IiIjrERER16KioppsNts5t9vNSPHPRHSciBq4RBRCcY0AyJJr81hWOPZravBNy5qfT8XhkHzaxepSgSyt7gEc6g+y5NAoEIlAlnAC7hAAWXJnEghEBLKEF/CHAMiSP5tAIpAlfIBDBECWHBoFIiGzhA/whwDIkj+bQCJklvABDhEAWXJoFIiEzBI+wB8CIEv+bAKJkFnCBzhEAGTJoVEgEjJL+AB/CIAs+bMJJEJmCR/gEAGQJYdGsaBIzxHRJiL6JyLaJnnOcjkR/YyIConoVQviApU5QgBkyZExLCxKAhE1EVEvEbUTUUrf33FEFNH3d6uF8YHqHCAAsuTACBBBQOBlImI/DhYlwaObiIqI6HlgBAT0RgBkqbcFML6IAMsuvyaiaAkk7KcdbiMiZJXwE90RAFnqbgIIIEFAml0iq4RrcIUAyJIrc1heGGl2iazS8u7AFwAgS77sAWlurl2yXXG2C461SngENwiALLkxBQTpQ4Blly1ElIi1SvgETwiALHmyBh+yrI+Njf3Hjo6OWD7EMb8UDofjnNPpZL9phItjBECWHBtHB9EeHDZs2HtffPFFzO23367D8NYbctKkSa6PP/74RSLabj3tjaUxyNJY9lJV2uTk5HM7duz4DwsWLFB1HHR+E4GNGzfS9u3b/9DY2DgTmPCPAMiSfxtpImF8fPwv586dm1NRUTFMkwEtPkhNTQ3NmjWrs6urazwRnbc4HIZQH2RpCDOpLuSj3/jGNyq+/PLLhPj4eNUHwwBEd911l9vpdLJ33/8X8DAGAiBLY9hJTSkTEhIS6isrK1MfeeQRNcdB330IrFixoqe8vPxfrl69Og+gGAcBkKVxbKWKpMOHD69euHDho9u2bZO+k63KWOiUaP/+/fT4449fbW1tTSciNzAxDgIgS+PYSg1Jc+68884dZ8+eTVKjc/Q5EIH29nZKT09vvXLlyiIi2gd8jIUAyNJY9lJS2lHR0dFnfv/738c98MADSvaLvvwgsGjRomv79u2rbG1tzQNIxkMAZGk8mykicUpKyv9ZtmzZrBdfZI/43XpVVlbSwoULB3yxYcMGWrNmjSLjW62Tt956i5YsWXK+ubl5bN/hxlaDwPD6giwNb8KQFFh63333bfzkk0/s/u5mZHn06FEqLi6m2NhYampqIvb8JSPLadOmhTSoVW+6fPkyORyOjra2tv9KRIetioPR9QZZGt2CwcufYbPZ/u+f/vQn24QJE/ze7U2WrCF7iDo9PV0gTfbvtWvX9t+/e/du4XOxnfid9PPa2lrKzMzsvycvL6+fjMUPz5w5Q7t27aL169cLJM3uqaioENpt3bqVZs6cKZC1L/KWysSeY2TtOjo6aMWKFVRaWioMIX7OxsnOzqbTp0/3y6NW5vzII4+0HDhwoKS3t3d18ObCHbwgALLkxRIayZGamvrx6tWrJz777LODjugrs1y6dCmtW7eOxo8fL5CllLjE7z7++GOB3Nj9jY2NAiHt3LlTIC5GfIcPHxayU29SDJYsxWUCkfzY3/X19f19MzlLSkroF7/4hdA1G5ONv2TJEqqqqhI+8yZlUTYlTfGrX/2KCgsL65qamr6lZL/oS3sEQJbaY67niKu///3v/+OhQ4cC7n77WrP0zh6lZLl69WravHmzQE5i9ilmmVKyOnfunJCBhkOWqampAtGx69FHH6X77rtPyB5zcnIGLBF4Z59ilsnaiX1IM1ilyZLpmJGRcf369euTiegTPQ2PscNHAGQZPoZG6WFKdHT0B3/961+j0tICH3DjrwwXic9XGf7YY48JpDV9+vT+klya8bF/jx07ViA0f2TJCE6awfoqwxmpMaIW/3v33Xf7XE8VyfLgwYMDbMRI//7771c9s8zMzHTV1tZuJqKtRnESyOkfAZClRbwjJSXli5///OeOJ554QpbGvsjS3/qhNGNjBOYvs2Trjg8//LBQxvsjSyacv7VNtmY5YsQIOnv2rLCmKa5hDpZZSolXqrivtVElM8stW7bQq6++euzrr7/Gbpgsj+O/EciSfxuFLWFsbGzRww8//D/27t3LDtaVdcnJLMUyXEqWrMz2tWbpXfYORpZSAb0Jmm0cieuU0nVT9m8x62V95+fnsxN9qLq6esDn4hqqmmX4Rx99xLLnnt7e3nuI6KwswNGIewRAltybKGwBH0pOTt579uzZYcOHD5fdma81S+nutXcZ7u87VvI+9NBDQpnsXQ4zYQLtQHuTpUiI7L9SsvS36+39OZOHLQWwXXnp2NLNJ9kg+Wn4rW99y1VXV/dTInoj3L5wPz8IgCz5sYUakkQnJiY2vPnmm3/3wx/+UI3+ZfXJ1g7FDaCUlJT+e5QkKFmCaNDo+eefv/76668fuHr1KnumEpeJEABZmsiY3qrY7fbyrKyseaWlpbr+RIRVyPLQoUNsd76lvb3dQUR/M7FrWVI1kKV5zZ49ZsyY1+vr6xOHDh1qXi050ez69etsY6vl/PnzTxHRzQc5cZkKAZClqczZr8w34uLinO+8807irFmzzKkhZ1rl5eV1VFdX73W5XOxEIVwmRABkaUKjDh8+/F+feuqph15++WWklBrY9+2336Ynnnji31paWtgDrF0aDIkhdEAAZKkD6CoP+WRGRsbP//KXv/g9JEPl8VXtXro7zt4d1/u6evUqjRs37lpzczM79fyA3vJgfPUQAFmqh60ePY+LiIj4rLa2NvK73/2uHuOrPiZvZDlv3rzW3/3ud/+zo6OjQHXlMYCuCIAsdYVf2cFvu+222ueee27qqlWrlO04zN6kz2yyk47YQRbsLR7p5f0YkfQhc+927KH3xMREeuWVV2j27NnCoR3SR5LCFFf27W+++Sb99Kc/dTY1Nd0l+yY0NCwCIEvDmu4WwVdOmzZtdU1NDVflNyNBRnwioQ1GgtITidibNuzZUO/DhsVXIcVDPfz1p7ZZGxoa6Jvf/GZ3V1fXg0R0XO3x0L/+CIAs9beBEhJMHDp06Im6urqh3hmbEp0r2Yf0YA1fmeXKlSuJnd4+btw4unLlik+ylJIve7VRPI5Ny+xy1qxZ7vfff/8VImIHZeCyAAIgSxMYOSUl5S+bNm3K+MlPfsKdNt6vGzIBfb3iKJbh0tOEfB1s4b1mqQdZvvbaa+w4uk8aGxvv5w5wCKQaAiBL1aDVpuOIiIjNDz300NJ33303UZsRgxvF+0COwTLLd955R+h88eLFwsHB/shSmll6l/nBSRd8a3ay+ne+8x2Px+P5j0RUF3wPuMOoCIAsjWq5m3LPjI+P/1en0xk7cuRILjWRkiX7KVh2oAY7z9LfWqSYdfp7b1xcs5SePMQU1+qH1CZOnOg6deoU+9W2Ei4Bh1CqIQCyVA1a1Tu2JScnn9u5c+eYxx9/XPXBQh1AegAv27l++umn6b333rvlt3e8M8TByFK6G+7rd3xClTXQfewMzR07dhxqamr6z4Ha4nvzIQCyNKhNExISSufOnbugvLx8mEFVMJTYH374If3gBz9o7+rqYs88XTSU8BBWEQRAlorAqHknc0eMGFFeX1+fEBcXp/ngVhxw3Lhx7i+//HIZEVVYUX/oTASyNJ4XJCUkJNS/9dZbw+fMmWM86Q0o8fLly7t37979ztWrV7MMKD5EVggBkKVCQGrVzfDhw/cuWrTo74uLiyO1GtPK47z77rtsU6qxtbU1nYharYyF1XUHWRrLA/67w+HY9sUXXwT8KVtjqcWntG1tbXTnnXe2/u1vf8shopvPNeGyLAIgS+OYfkx0dPSZQ4cOxbDfj8GlPgI5OTnX9u3bV9HW1va0+qNhBN4RAFnybqE++VJTUw/n5+d/T6vnCQ0Ci2pisudDly1b9v+am5vHqjYIOjYUAiBLY5gr//77719/8uRJrg7JMAZ0wUv51Vdf0V133dV57dq1/0JEHwTfA+4wIwIgSwNY1eFwNDidTmQ4GtkqNja2o6Ojgx2S8aJGQ2IYAyAAsjSAkSwooofwWJsFzc63yiBLvu1jVelAlla1PMd6gyw5No6FRQNZWtj4vKoOsuTVMtaWC2RpbftzqT3IkkuzWF4okKXlXYA/AECW/NkEEhGBLOEF3CEAsuTOJBCIQJZwAg4RAFlyaBSIhMwSPsAfAiBL/mwCiZBZwgc4RABkyaFRIBIyS/gAfwiALPmzCSRCZgkf4BABkCWHRoFIyCzhA/whALLkzyaQCJklfIBDBECWHBrFgiI9R0SbiOifiGib5NGh5UT0MyIqJKJXLYgLVOYIAZAlR8awsCgJRNRERL1E1E5EKX1/s5+ujOj7G79/Y2EH4UF1kCUPVoAMDIGXiaiAiKIkcHQTURERPQ+IgIDeCIAs9bYAxhcRYNnl10QULYGki4huw68qwkl4QABkyYMVIIOIgDS7RFYJv+AKAZAlV+awvDDS7BJZpeXdgS8AQJZ82QPS3Fy7XEVEW7BWCXfgCQGQJU/WgCwMAZZd/jMR/QPWKuEQPCEAsuTJGpCFIVDocDgWO53OXX3PXgIVIMAFAiBLLswAIYhort1u3zZ9+nT78uXLE7dt29Zy9OhRl8vlYg+m7wNCQEBvBECWelsA449LTU3dFh8fn1lcXJw4d+7cfkT27dtHK1asaGlra6tpbGxkpHkWcAEBvRAAWeqFPMYVSm4i2rhx40YqLGT/9H1t2rSJ1qxZw75k/8dei8QFBDRHAGSpOeQYUFpyFxUVJY4bNy4gKGfPnqXnnnuu5cMPP0RpHhAtNFADAZClGqiiT38I+C255UKG0lwuUminNAIgS6URRX/+EJBVcsuFD6W5XKTQTikEQJZKIYl+/CHQv8stt+SWCyVKc7lIoZ0SCIAslUARffhCIOySWy6sKM3lIoV24SAAsgwHPdyrScktF2aU5nKRQrtQEABZhoIa7tG85JYLOUpzuUihXbAIgCyDRQztdS255cIvKc1rGxsb8/FAu1zk0M4fAiBL+Ea4CCi6yx2uMN73ozRXGlHr9geytK7tw9VctV3ucAXzvh+ludKIWrM/kKU17R6O1prtcocjpK97UZorjai1+gNZyrS3x+PxyGwacjObzca7PbguueUCz1tproVveWNjAF+Ta07N2vEenJoBEWggLRyaYwc2TMkdyI7i9zyV5lr4FshSrmf4bweylInh559/7snOzqbTp0/fcsfu3btpwYIFMnsaxBj8ZZaGLbnlGoOH0tyfb23YsEE8bcmnOrW1tVRRUUHFxcUUGxsrV2WhHccTc1B6aNkYZCkTbensX1lZSUePHg3JSQcbjjMHNkXJLdO8pGdpzsgyPz+ftm/fTuPHj5crMoEsZUOlSEOQpUwYByPLjo4OdkgtuVwuqqqqovfff5+qq6spJyeHpk2bRk1NTbR06VJat26dEAxnzpwhMUudPXs2MfJNSUnhZbY3Xckt08SkV2keiCyZ/7DK5eDBg4IqYsYpJcvz58/3+9SECRMEPxSJl50XunbtWuFesQribGKWayJd24EsZcIvhyzvuOMOoWwSydMXWaampgqOz9oxImWOfOnSJSFLjYuL09Mepi+5ZZqatC7NByNL0ZemT58u+A2baMUstLGxUSjDX3rpJXrhhRf6J2dGoocPHxZ8TFoFiYS6c+dOyszM1NPX5JqCq3YATKY55JCl6NCDkSVzcEaQYjbJnJ9lnCUlJZSamqqXPSxVcss0uWalua81y7y8PJ/LPNIqxR9Zivp5Ey37nPleeno6LVy4UC9fkws/d+0AmEyTyCFLMZMMRJaZmZkDRhXLprvvvltrewgl9wMPPGB/9dVXZZ1YLhMu0zTTojQPVIazTFHqM6K/iGTJqpL29vb+Ul1c2omLixOWh0pLSwfYg5Xxa9eu1drXDO8TAEymCcMhS1+lk68dTA3XkVByy7S72EzN0nwwshTXK8VlG1+ZpbcviWuZ3uW5VGUNfS1IpPltDrKUaZtQyFJcw2Ql9yuvvCIsunuvWbLv2LoT+69GZThKbpk299VMjV3zYMhS6ktiZsmIdOXKlf0biP7WLMXsk1VAKMODdwKQpUzMgiFL1qV0x7uoqIg++ugjn7vh0p1LlWd7lNwybR2omdKleaAynBHkwoULBbFYSX3q1ClhM4dd4nOW7DOxVJc+YSGuU4q74eJOusq+FghCQ34PspRpNi3eslDJgU1VcofzbKFMU8tuplRproVveSulkq/Jxs6IDUGWMq2mhUOr4MCmK7l5IkvRdcItzbXwLZClzEAfpBnIUiaGWji0gmTJTcktPhkg7sj6eiRGbCOu8Q5mEpEsExMThXVg75JTpjkVbxZOaa6Fb4Eswzc5yDJ8DHnqgZXc2+Pj46cVFxcnzp07V3fZ2HN97GKbEN47u97CSR+RqampER7a99dGfBNF2r/uyhJp/kA7DzpbRQaQ5U1L/4GIHjS60dPT011paWn2Q4cOcamK9/OngwkpfbNJekgEI1R/D/WzV0Z5uWbNmkUNDQ2u+vp6Oy8yhSHHB0T0vTDuN8WtIMubZmRnVZoBC+4yS+lTAWLEBMoaWbvB2khP2pG+AcUDWSq16cMZu5glPsKC1QwEERYAfTebzRm4WLP0ft3OX2YZ7JqlNLP0zjSVcIZQ+ghnzTKU8TS+x2zxERJ8IEtzZZbeTqDrbrg3WYprkv6yRjke7N0HD2uW4e6Gy9Fb5zYgS5OUnkr4kZmdQdfSXLppwx6IZhc7yCHUw5K9d8P9HTihhFME6kNSctc0NjYuN/HP7Zo5PgKZuf97ZJbmziyljsBFaS7bMzluaPKS2xfyIEtklv1+YSVn0LU055gDZYlmgZIbZOnHE5BZWiezlLqArqW5LFbirJGFSm6QJchy0OizUmaJ0jwIIrZgyQ2yBFmCLAdBAKW5D3AsWnKDLEGWIMsACRVK8z6ALF5ygyxBliBLmdWnZXfNWcldUFDQcvToUZfL5WKPAu2TiZnZm1l1mWqAXbHBY80NHjnBbanSHCU3kolAQQGyBFkO5iOmL81RcgeiCOF7ZJZ4zrLfUeAMg8eM6UpzlNyySFJshPgAWYIsgwoZIlOU5ii5g7Q6MksBMJThKMODjRzDluYouYM1NZIJKWIgS5BlqBFkmNIcJXeoJgZZgixv9R2syYQeT1yX5ii5Qzes5E7EB8pwzJyKhBIRd6U5Sm6FLIvKqx9IlOFwBiWjSvfSHCW3kuZEMoEyHGW4KhEl6VSX0hwlt2pmRRmOMhwzp2rhdbM03xYfH5+p9s/youRW0YqovFCGe7kXZk714k210hwlt3pGQ3zcii3WLDFzahVxipbmKLm1MpswDpIJlOEowzUNOQVKc5TcGlsMyQTKcJQZugSdOGjQpTlKbl3thcwSmSUyS11DUOa75ii5dbYSynDBAFizRJmhdyT63TVHya23aZBMSC0AsgRZ8hKRQmk+ffp0+/LlyxO3bduGE8t5sQwyS2SWEl/Emgw/gVnocDgWO53OXUS0iR+xLC0J4gNlOMoMS1MAlJeLAMjSwmT5XF/W8k9EtE3yHBn7kaqf0c2Nh1flehLaAQGTIYD48GFQq65ZJhBRExH1ElE7EaX0/R1HRBF9f7eaLACgDhCQiwDiA2Q5AIGXiaiAiKIkn3YTURERPS/Xq9AOCJgUAcSHl2GtmlkyGNjs+TURRUsw6SKi24gIWaVJGQBqyUYA8QGy9JtdIquUHUdoaBEEpNml5ePDypmld3aJrNIiDAA1ZSMgzS4tHx9WJ0vmNWz2ZLt/bPcba5Wy4wgNLYIA4qPP0CDLm2uX/0xE/4C1SouEP9QMBgHEh4ZkeYfD4ahxOp1jg7EQ2qqHgMPhOOd0Ou/F5KAexkH0jPgIAiwtmvqLD9Uzy7i4uB1PPvnkU6+99pr0ER0tdMYYPhB49tlnu994443X29vblwEg/RFAfOhvA6kEg8WH2mR5BxFdvHjxIt1xB/snLj0RuHTpEo0aNbqY9OkAABF+SURBVIqJwP7vkp6yYGwBAcQHR44QKD5UJUvMmhx5AhEhq+TLHogPvuwRKD7UJEvMmhz5QqBZkyNRrSIK4oMjS8uJD9XIErMmR56ArJIvYxAR4oMvkwTKKpm0apElZk2OfEHOrMmRuFYQBfHBkZXlxocqZIlZkyNPQFbJlzGQVXJnDzlZpVqZJWZNjtxB7qzJkchmFwXxwZGFg4kPxTNLZJUceQKySr6MgaySO3vIzSrVyCwxa3LkDsHMmhyJbWZREB8cWTfY+FA0s0RWyZEnIKvkyxjIKrmzRzBZpdKZJWZNjtwh2FmTI9HNKgrigyPLhhIfimWWyCo58gRklXwZA1kld/YINqtUMrPErMmRO4Qya3IkvhlFQXxwZNVQ40ORzBJZJUeegKySL2Mgq+TOHqFklUpllprMmmfOnKHs7Gw6ffp0P/izZ8+myspKSklhv2SLiyEQ6qwJ9FRDAPFBRBs3bqT09HRasGCBakDL6Tic+Ag7s9Qqq2RkmZ+fT9u3b6fx48cLuDADsGvNmjVycLJEm1BnTUuAo4OSiI+boPNCluHER7hkqcmsycD2RZa1tbVUUVFBxcXFdOrUKTp8+PAtxMkyz/r6euFzZrC1a9f2h8zu3bv7ZzrWV2ZmpvBdXl6e0GdsbCxJP/f+Thp7HR0dtGLFCiotLb2lD61iNJxZUysZLTYO4qPP4Cz24uPj6eDBg8L/NmzYoHmSE258hEWWWs2a/shSOlsxUpNDljNnzqRp06ZRU1MTLV26lNatWyeYk5X4O3fupPvuu08gPXZYMSNYab+MsHft2kXr168XiFR6SbNc1jcrN9j9bCytrnBmTa1ktNI4iI//b20WH2+//TZVVVVRamqqIeMjHLLUbNYUydJ7zdI7AwyWLFevXk2bN2+mzz//vD9DFbNJZlyWlbLvzp07Jxh3MLL0lWXm5ORoRpbhzppWIjGNdEV8SID2XjKTVnxa2EOJ+AiZLLWcNQcrw6WkJpbRrL24+XPgwIGAZTgz3NGjR/tLb0aKLOMsKSkhdv/YsWMF0huMLH1tQNXU1GhGlsgqtQg5+WMgPm6tvKQbPFqTpRLxESpZajpr+iNLaSnd2Ng4oAwXjcEMJF2zFMtwcY2RZX/sEtc+vTPL8vJyevjhh4VNJX9kKfY1ffp0IQOV9q1FGa7ErCmfBtBSBgKIj0GWqRh+Wm7OKhUfIZGl1rOm3MxSWoYHQ5ZsDcXXmmVWVtaANUq5ZCluCmmVWSoxa8ogADSRiQDiw/eaPosLFpfs0nJNX6n4CIUsNZ81/a1ZTpgwQVgwZlmf9661nDLc3643+5xtzixevFjYufO+fO3kScdn37NLi+fKlJo1ZfIAmgVGAPHhY6fbezdc+iRKYEhDb6FkfARNlnrMmqFDFfqdrMQXN4CkD73723UPfaTw7lRq1gxPCtwtIoD48P1Uil4eomR8BEuWusyaegBtBLJUctbUA2MTjon48PMInx62Vjo+giJLq8yaehg2lDGVnDVDGR/3DEQA8cGXRygdH8GQpWVmTb5M7lsapWdNI+jMuYyID44MpEZ8yCZLzJoceQJOFuLLGDhZiDt7KJ1VMgXlkiVmTY7cQY1ZkyP1jCgK4oMjq6kVH7LIElklR56ArJIvYyCr5M4eamSVcjNLzJocuYNasyZHKhpNFMQHRxZTMz4CZpbIKjnyBGSVfBkDWSV39lArq5STWWLW5Mgd1Jw1OVLTSKIgPjiyltrxMWhmiaySI09AVsmXMZBVcmcPNbPKQJklZk2O3EHtWZMjVY0iCuKDI0tpER9+M0tklRx5ArJKvoyBrJI7e6idVQ6WWWLW5MgdtJg1OVLXCKIgPjiyklbx4TOzRFbJkScgq+TLGMgqubOHFlmlv8wyweFwfOp0Osdyh4pFBXI4HOecTif76clLFoWAJ7URHzxZg4i0io+Az1lyhota4niCePVTLRnQLxDgFQHEBwii3zfhDLyGKeTiAQHEB8gSZMlDJEIG7hEAWYIsQZbchykE5AEBkCXIEmTJQyRCBu4RAFmCLEGW3IcpBOQBAZAlyBJkyUMkQgbuEQBZgixBltyHKQTkAQGQJcgSZMlDJEIG7hEAWYIsQZbchykE5AEBkCXIEmTJQyRCBu4RAFmCLEGW3IcpBOQBAZAlyBJkyUMkQgbuEQBZgixBltyHKQTkAQGQJcgSZMlDJEIG7hEAWYIsQZbchykE5AEBkCXIEmTJQyRCBu4RAFmCLEGW3IcpBOQBAZAlyBJkyUMkQgbuEQBZgixBltyHKQTkAQGQJcgSZMlDJEIG7hEAWYIsQZbchykE5AEBkCXIEmTJQyRCBu4RAFmCLEGW3IcpBOQBAZAlyBJkyUMkQgbuEQBZgixBltyHKQTkAQGQJcgSZMlDJEIG7hEAWYIs+530D0T0IPcuax0BXURkt4663Gv6ARF9j3spVRbQpnL/6B4IhIIAMplQUMM9qiIAslQVXnQeIgIgyxCBw23qIQCyVA9b9Bw6AiDL0LHDnSohALJUCVh0GxYCIMuw4MPNaiAAslQDVfQZLgIgy3ARxP2KIwCyVBxSdKgAAiBLBUBEF8oiALJUFk/0pgwCIEtlcEQvCiIAslQQTHSlGAIgS8WgREdKIQCyVApJ9KMkAiBLJdFEX4ogALJUBEZ0ojACIEuFAUV34SMAsgwfQ/SgPAIgS+UxRY9hIgCyDBNA3K4KAiBLVWBFp+EgALIMBz3cqxYCIEu1kEW/ISMAsgwZOtyoIgIgSxXBRdehIQCyDA033KUuAiBLdfFF7yEgALIMATTcojoCIEvVIcYAwSIAsgwWMbTXAgGQpRYoY4ygEABZBgUXGmuEAMhSI6AxjHwEQJbysUJL7RAAWWqHNUaSiQDIUiZQaKYqAv9CRI8Q0f8moseISCTL3xLRfyOid4no71WVAJ0DgQAIgCzhIjwg8HdE9FWfICJRSrPL24no33gQFDJYFwGQpXVtz5vmx4noP/kQ6o9ENIU3YSGP9RAAWVrP5rxqLM0upTIiq+TVYhaTC2RpMYNzrq53domsknODWUk8kKWVrM2/rt7ZJbJK/m1mGQlBlpYxtWEUFbNLZJWGMZk1BAVZWsPORtKSZZcniWgSdsCNZDbzywqyNL+N1dIwrW+X+ttJSUkTPR7P2O7u7pTe3t5hvb29Q4lIT9/yREREXI+IiLgWFRXVZLPZzrnd7k+I6M9ExDLXBrVAQb/mRUBPhzYvqubVbCIRzU9ISPiRzWZLmTx5cueMGTOSMjIyItPS0mjkyJGUlJREMTExuiPQ2dlJbrebLl++TA0NDVRXV9dz5MgR94kTJ2I8Hk9Ta2vrb4hoDxExEsUFBAIiALIMCBEaMIK02+2rIiMjHbm5uRHz58+PmzSJVcnGvE6ePEl79uxpLysr6+3p6XG6XK4tfcRpTIUgtSYIgCw1gdmwg8xOTk7eOmrUqNsLCwuHZ2VlGVYRf4JXV1fTpk2brl68ePGr5ubmlUR00HRKQiFFEABZKgKj6TqJTkxMLI2JiXmsqKgoYcGCBaZT0FuhyspKKigoaO3s7PxtS0tLHhF1mV5pKBgUAiDLoOCyROOpdru9KisrK6WkpCQ2MjLSEkozJXt6emjp0qUd1dXVTS6XK5uIjllGeSgaEAGQZUCILNXgxzabrbKsrIwWLVpkKcWlypaXl1Nubi55PB6WUv/askBA8QEIgCzhECICeUlJSUX79++PmzZtmuVRqa2tpTlz5rS73e4CIiq1PCAAQNdn4QA/PwjkJCcn/+qDDz6Iu/fee/mRSmdJPv30U3rwwQfbm5ubf0JEFTqLg+F1RgCZpc4G4GD4zCFDhhypqakZMmUKTkLztsfx48cpMzPzxo0bN2YQUQ0H9oIIOiEAstQJeE6GHWK3289t3759dE5ODici8SdGRUUF5efnX3C5XGOJ6AZ/EkIiLRAAWWqBMqdjxMbGFs+bN+/J8vLyYZyKyI1YixYturZ37943Ojo6VnAjFATRFAGQpaZwczXYXZGRkXUXLlyIGDFiBFeC8SjMlStXaPTo0eyNnwwi+oJHGSGTugiALNXFl9veExISXl+2bNnizZs3D+FWSM4EW7169Y0dO3bsam1tfYoz0SCOBgiALDUAmcMhhkRFRbU7nc7oMWPGcCgenyKdP3+eHA5HV3d3dxzWLvm0kZpSgSzVRJffvh+dMmVK2bFjx+z8isinZFOnTnUdP348l4je4VNCSKUWAiBLtZDluN/4+PhfFBYWPr1q1SrFpWxqaqLVq1fT5s2bKSUlhdjf7N3ysWPHUnFxMcXGxio+ppYdbtmyhR288cu2trZntBwXY+mPAMhSfxtoLkFqaurpqqqqe2fOnKn42N5kuXHjRkpPTxcI0wzX4cOHKTs7+9PGxsYJZtAHOshHAGQpHyvTtIyPj2/+7LPP7KNHj1ZcJylZss6lWSb7+8yZM4xs6PTp0zR79mxip/2wDJS9XsiIaM2aNYJM7PP6+nrh746ODlqxYgWVlt5867CmpobYK5msr127dtH69euFjNWbqBVXjoguXLhA99xzj6utrS1Zjf7RJ78IgCz5tY1qkg0dOrTn2rVrEdHR0YqPISWsAwcOCP2LWaVYkrMH4NlnLOu8dOmSUJ6fOnXKL1myduxixMlIdcmSJVRVVSV8pjVZdnV10bBhw3qvX79uneOYFPcSY3YIsjSm3cKRmtn8hsfjCacPv/eKhHjw4EHavXv3gPKbZYLr1q2jkpISIZtkf+fn59P27dupsbHRJ1k+88wzQh+MKFk2KWaZjHBTU1M1J0umuM0mhA1iRxUP4rdTGJxf26gmmRaZZWFhIdsIoTvuuKO/tGZZIcsSxdKbEevSpUsFAmVkmZmZOUDnDRs2kEiWjHylFyPi+++/X3OyRGapmlty3zHIknsTKS+gVmuWjADZ+uTOnTv71xhDySxFQh0/fvwAMLBmqbxvoEf/CIAsLegdWu6GsyySHUTB/iuuX4azZiluEDEC1qMMx264BQOmT2WQpQVtr+VzluIaI4OZbeSwt2DC3Q0X10KlO+tSM7LyXdxVV9q8eM5SaUSN0x/I0ji2UlJS077B4/0IkpKgsb7wBo/SiBqnP5ClcWylpKSmfTdcTbLEu+FKuqDx+gJZGs9mikiMU4eChxGnDgWPmZnuAFmayZrB6YLzLIPAC+dZBgGWSZuCLE1qWDlq4aR0OSjdbIOT0uVjZdaWIEuzWlaeXvgNHhk44Td4ZIBkgSYgSwsYOYCK+HXHQQDCrzsiQEQEQJbwBYYAfjfchx/gd8MRHFIEQJbwBxGBvKSkpKL9+/fHsQMrrH6xR5DmzJnT7na7C4jo5tlwuCyNAMjS0ua/Rfkf22y2yrKyMrahYVlkysvLKTc3lzweDzux+NeWBQKKD0AAZAmH8EZgqt1ur8rKykopKSmJjYy0zrGNPT097BSkjurq6iaXy5VNRMfgHkAAa5bwgcEQiE5MTCyNiYl5rKioKMEsPwkxmMLsoI+CgoLWzs7O37a0tOQRURdcBAhgzRI+IBeB2cnJyVtHjRp1e2Fh4fCsrCy59xmmXXV1NTt38+rFixe/am5uXklEAw/ONIwmEFRtBFCGq42wOfqfb7fbV0VGRjpyc3Mj5s+fHzdp0iTDanby5Enas2dPe1lZWW9PT4/T5XJtIaI9hlUIgmuCAMhSE5hNM8hEIpqfkJDwI5vNljJ58uTOGTNmJGVkZESmpaXRyJEjKSkpiWJiYnRXuLOzk9xuN12+fJkaGhqorq6u58iRI+4TJ07EeDyeptbW1t/0EeQnugsLAQyBAMjSEGbiUsg0IppCRN9OSkqa6PF4xnZ3d6f09vYO6+3tHarzb9R4IiIirkdERFyLiopqstls59xuNyPFPxPRcSJq4BJRCMU1AiBLrs0D4YAAEOAFAZAlL5aAHEAACHCNAMiSa/NAOCAABHhBAGTJiyUgBxAAAlwjALLk2jwQDggAAV4Q+HeymInarfOimAAAAABJRU5ErkJggg==\" style=\"max-width:100%;\" />"
      ]
    },
    {
      "cell_type": "code",
      "metadata": {
        "id": "lH2snQOEbzd0"
      },
      "source": [
        "# Ваш код здесь"
      ],
      "execution_count": null,
      "outputs": []
    },
    {
      "cell_type": "markdown",
      "metadata": {
        "id": "BzIrEia-OG4N"
      },
      "source": [
        "## Задача 10\n",
        "\n",
        "Пользователь вводит 3 целых числа. Определите и выведите на экран максимальное из них.  \n",
        "Возможные блок-схемы:\n",
        "\n",
        "<img src=\"data:image/png;base64,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\" style=\"max-width:100%;\" />"
      ]
    },
    {
      "cell_type": "code",
      "metadata": {
        "id": "EfpHd4Q7ONz3"
      },
      "source": [
        "# Ваш код здесь"
      ],
      "execution_count": null,
      "outputs": []
    },
    {
      "cell_type": "markdown",
      "metadata": {
        "id": "iBkzO7fqE2Da"
      },
      "source": [
        "## Задача 11\n",
        "\n",
        "На числовой оси расположены три точки: A, B, C. Определите, какая из двух точек (B или C) расположена ближе к A, и вывести эту точку (букву B или C) и ее расстояние до точки A.\n",
        "\n",
        "<img src=\"data:image/png;base64,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\" style=\"max-width:100%;\" />\n",
        "\n",
        "Точки могут располагаться произвольным образом друг относительно друга.\n",
        "\n",
        "<img src=\"data:image/png;base64,iVBORw0KGgoAAAANSUhEUgAAAakAAABICAYAAABMQwrIAAAHAUlEQVR4Xu3dz8sVVRzH8be7bNPCZRtx46KgVRCoFLWw/0BBbePCjQjuAtEsCdqUILZo0SqF/A8Mwo34Bwi1cNeyhS4qwZZxaAYu49xnzvw6Z87M+4KE3Zlzzry+55nPnJl7fQ7hSwEFFFBAgYUKHFrouByWAgoooIACGFJOAgUUUECBxQoYUostjQNTQAEFFDCknAMKKKCAAosVMKQWWxoHpoACCihgSDkHFFBAAQUWK2BILbY0DkwBBRRQwJByDiiggAIKLFbAkEpTmuvA28BV4FWaLu2lMIEjwH3g9M64nwJngGeFHUuJwz0H3NsZ+EngSYkHsrYxG1LzV/R4FU6hp9uecOYHL7SHOqRu7Zwcw4nzlBc3s1c0OF8Awn9fAG21mH0QdtAuYEjNPzPCxK9fx4BwEvKlQFOg7cQYLnBuAperk6dq0wvsC6QTVXB592N6814tGlK9uHpvfBj4EvgReA58DVzzhNPbcQs77FtJeWEzb/VDGIXb8fUqat7ebL23gCHVm6zXDuFK+CLwRfUsKvwwPPJedy/DrWzc9kzqF0+es5ffFdPsxOM6MKTG+XXt3XwYG7a/4S2/LrZNvr/vdt8d4IrPMmebE66kZqOdpmFDahrHtlbaTjrh/92tnjP4ia357EtsuW2+hNvF4cM2P7n6nq2k+55JNe+CzDYAGz5YwJCab4a0XaHVJ53H1ceN5+vdlksTcCWVr2L7Pt0XLg7C1wJ8ZRQwpObDD8+fwqv5ab7mD8R8I7DlkgTankmF8ft9nTRVbN6aP29ApYHv6sWQ6hLyfQUUUECBbAKGVDZ6O1ZAAQUU6BIwpLqEfF8BBRRQIJuAIZWN3o4VUEABBboEDKkuId9XQAEFFMgmYEhlo7djBRRQQIEuAUOqS8j3FVBAAQWyCRhS2ejtWAEFFFCgS8CQ6hLyfQUUUECBbAKGVDZ6O1ZAAQUU6BIwpLqExr3/TvW7aj4F3gL+Ah5W/1TS7+Oadu8VCjhf8hRV9+Hu4dcQfQf8M7yJg/c0pOaShTPAzwc0fxZ4MF/3tlyYgPMlT8F0H+f+K/B+FVTfAi/HNff63obU1KL/txeuzH6LaPpdwBVVBNTKN3G+5Cmw7uPdQ0h9UjXz9xxhZUiNL1JbC2EFFa7Qul5hJRVWVL62LeB8yVN/3ce774ZU3dqkYdUnpD4CPhx/TJto4XPgjYgj/Rf4JmI7N1m3gPMlT311H+/+GXBsTzN1WI16ZtUnpMIDspvjj8kWFFBAAQU2JDAqrPqElCup+FnlFVq8lVuC8yXPLNB9vPuiVlLjD2c7LXivezu1nuJInS9TKPZvQ/f+Zs09FvVMavzhbKcFPzW0nVpPcaTOlykU+7ehe3+zg0Jq0g9M1B31ud03/nC21YLfv9hWvccerfNlrOCw/XUf5lbv5fekxvll39tvsmcvQVEDcL7kKZfuw939FyeG27mnAgoooEDpAt7uK72Cjl8BBRRYsYAhteLiemgKKKBA6QKGVOkVdPwKKKDAigUMqRUX10NTQAEFShcwpEqvoONXQAEFVixgSK24uB6aAgooULqAIVV6BR2/AgoosGIBQ2rFxfXQFFBAgdIFDKnSK+j4FVBAgRULGFLpi3scuANcAZ6l794eFyoQ5kX4fW2XgRfVGI8A94HTwA/AVeDVQsdf6rDa3Otjqf1vAU9KPcDSx21Ipa3gYeA28EH16+UNqbT+S+0tnCgfAH8C56qQqufK4yqorleDDydMX9MItLnvthzMvwJOGlLTgA9pxZAaojZ8n3ACeq/640pquOOa9jwBfA+Ef6jz7M5KKlzF361WV+FiJmwXTpp1iK3JIMex7HOvxxLevwAcBVxJ5ahQ1achlQ6/vq0QTjw3vN2XDr6Qnpq3ndr+7m3i6Yu57zZr+DkNf8KFgSE1vXt0i4ZUNNXoDcNkfwQ895nUaMs1NtA8WTZXTj7LnKfqbSEVVqvh9bC61WpIzWMf1aohFcXUa6P6WcKlaq/zwB/Ax9UVmSebXpyb2diVVJ5St7lfrG6/vmlI5SnKbq+GVJoa1A9gd3t76ocn0uAX0kvzZOkzqTSFa7qHVdS9lq798ESaerzWiyGVHt6VVHrzEnpsniz9dF+aqvkR9DTOg3sxpAbTDd7RkBpMt+od/Z5UnvIaUnnco3s1pKKp3FABBRRQILWAIZVa3P4UUEABBaIFDKloKjdUQAEFFEgtYEilFrc/BRRQQIFoAUMqmsoNFVBAAQVSCxhSqcXtTwEFFFAgWsCQiqZyQwUUUECB1AKGVGpx+1NAAQUUiBYwpKKp3FABBRRQILWAIZVa3P4UUEABBaIFDKloKjdUQAEFFEgtYEilFrc/BRRQQIFoAUMqmsoNFVBAAQVSCxhSqcXtTwEFFFAgWuA/uW83WMmswBQAAAAASUVORK5CYII=\" style=\"max-width:100%;\" />\n",
        "\n",
        "Точки вводятся всегда в одном порядке: A, B, C. Гарантируется, что В и С находятся на разном расстоянии от А."
      ]
    },
    {
      "cell_type": "code",
      "metadata": {
        "id": "aDBWJf-DJ9Em"
      },
      "source": [
        "# Ваш код здесь"
      ],
      "execution_count": null,
      "outputs": []
    },
    {
      "cell_type": "markdown",
      "metadata": {
        "id": "oklQdESBtzYm"
      },
      "source": [
        "## Задача 12\n",
        "\n",
        "Ниже предоставлена информация в табличном виде. Под данной таблице можно идентифицировать животное на основании трёх признаков: Умения плавать, Наличия крыльев и Длины шеи. На основании представленной таблицы постройте [дерево решений](https://youtu.be/cX5bc7kWAMw). Пример работы подобных алгоритмов - [игра](https://ru.akinator.com/).\n",
        "\n",
        "Изучите таблицу и напишите программу, которая будет задавать пользователю три вопроса, в порядке: `Умеет ли существо плавать`, `Есть ли у него крылья` и `Длинная ли у него шея`. Пользователю разрешается отвечать на вопросы только: `Да` или `Нет`.\n",
        "\n",
        "| Плавает | Есть крылья | Длинная шея  | Животное |\n",
        "| :-: | :-: | :-: | :-: |\n",
        "| Нет | Нет | Нет | Кот |\n",
        "| Нет | Нет | Да | Жираф |\n",
        "| Нет | Да | Нет | Курица |\n",
        "| Нет | Да | Да | Страус |\n",
        "| Да | Нет | Нет | Делфин |\n",
        "| Да | Нет | Да | Плезиозавры |\n",
        "| Да | Да | Нет | Пингвин |\n",
        "| Да | Да | Да | Утка |"
      ]
    },
    {
      "cell_type": "code",
      "metadata": {
        "id": "x3mRXq0Ot6U4"
      },
      "source": [
        "# Ваш код здесь"
      ],
      "execution_count": null,
      "outputs": []
    },
    {
      "cell_type": "markdown",
      "metadata": {
        "id": "RSXX-KmDMo7M"
      },
      "source": [
        "## Задача 13. Палиндром\n",
        "\n",
        "Дана строка, состоящая из строчных и прописных символов английского алфавита и цифр. Определите, является ли она палиндромом, при условии, что строчные и прописные символы считаются одинаковыми.\n",
        "\n",
        "**Входные данные** Строка состоящая из 1 или более символов из диапазона [0-9A-Za-z]. Строка завершается символом `\\n`.  \n",
        "**Ответ** `YES`, если строка палиндром и `NO`, если нет."
      ]
    },
    {
      "cell_type": "code",
      "source": [
        "# Ваш код здесь"
      ],
      "metadata": {
        "id": "_QLGq6ciO3c-"
      },
      "execution_count": null,
      "outputs": []
    },
    {
      "cell_type": "markdown",
      "metadata": {
        "id": "hViCyOoONuTI"
      },
      "source": [
        "## Задача 14. Количество уникальных чисел в списке\n",
        "\n",
        "Дана последовательность целых чисел. Определите, сколько в ней уникальных чисел.\n",
        "\n",
        "```\n",
        "В списке: 1 2 1 3 3 3 5\n",
        "Уникальных: 4\n",
        "```\n",
        "\n",
        "**Входные данные** Целое число $n$ > 0, затем, в новой строке, список целых чисел, разделённых пробелами.  \n",
        "**Ответ** должен содержать одно целое число."
      ]
    },
    {
      "cell_type": "code",
      "source": [
        "# Ваш код здесь"
      ],
      "metadata": {
        "id": "jN_bX6vcO78w"
      },
      "execution_count": null,
      "outputs": []
    },
    {
      "cell_type": "markdown",
      "metadata": {
        "id": "Sc9qd1lN1vK9"
      },
      "source": [
        "## Задача 15. Количество нечетных чисел в интервальном диапазоне\n",
        "\n",
        "Даны два неотрицательных целых числа `low` и `high`. Определите количество нечетных чисел между `low` и `high` (пределы включительно).\n",
        "\n",
        "```\n",
        "Ввод: low = 3, high = 7\n",
        "Вывод: 3\n",
        "Объяснение: нечётные номера между 3 и 7 это [3,5,7].\n",
        "```"
      ]
    },
    {
      "cell_type": "code",
      "metadata": {
        "id": "pXHKFdAO1vK9"
      },
      "source": [
        "# Ваш код здесь"
      ],
      "execution_count": null,
      "outputs": []
    },
    {
      "cell_type": "markdown",
      "metadata": {
        "id": "tH5x-YF0sckd"
      },
      "source": [
        "## Задача 16. Сглаживание Графика Погоды\n",
        "\n",
        "<img alt=\"\" src=\"data:image/png;base64,iVBORw0KGgoAAAANSUhEUgAAAvMAAACiCAIAAABDKtX7AAAAAXNSR0IArs4c6QAAAAlwSFlzAAALEwAACxMBAJqcGAAAAAd0SU1FB98HHRQzGMPHocIAAAAZdEVYdENvbW1lbnQAQ3JlYXRlZCB3aXRoIEdJTVBXgQ4XAAAfj0lEQVR4Xu3de3Bj53ke8OeTLGlXFwDc1JZjRQQpj2U5rQFwHTtSai0O5YncJjYByokvMykB0uPUdhsS3KSTaRMvsZppxsnES3BT24nbLg7WU8mXWDxcN47stgLA2B4rTfYATMfWWvUCZKRKiu09AHSXIrz944AACJIgeMfl+f3hWR0c7K4gmufh977f9yoRAREREVFXuKrxAhEREVHHYrIhIiKi7sFkQ0RERN2DyYaIiIi6B5MNERERdQ8mGyIiIuoeTDZERETUPbZINkoppVTjVSIiIqK2tEWyISIiIuogTDZERETUPZhsiIiIqHsw2RAREVH3YLIhIiKi7sFkQ0RERN2DyYb2mGWJponPJ5Ylja8RERHtMyYb2kvJpAwOIp1W2awaHgbDDRERHTAmG9ozkYjcc48qFtWpUzI2Jgw3RER08F7XeIFo+3I5GR1FNqv6+8UwMDRkn1st58+r4WGJx2X1ChER0f7img3t1vy8DA0hm1UjI5LJVGMNEglVXbkxTa7cEBHRQWCyoZ2zLAmH5b77lAjOnJGFBdXXt2ZtJpFQp05JschwQ0REB0SJNHve2OMwm99Dvck0ZXwc2azyeETXa0s168XjMjGhnE5JJpvdRkREtHtcs6GdiMVkeBjZrBobk1Rqi7wyPq7OnZNiUR0/ruJxpmQiItpH7CCm7bEsGR/HwoJyOOShh2R0tFmmqRofV4BMTKiJCQXI+HhL7yIiItouVqNoG0xTRkexvKw8HjEMDA5uL6CYpmgaSiV17hzDDRER7QtWo6hV0agcP66Wl9XkpGSzaruxBsDQkEql4HDIxISKRhmXiYho73HNhrZmWTI6inRaORxiGBge3namqVdduQmFRNd39VsRERE14JoNQUxTUikxzcYXANQNTDhxQvL53cYarK7ceDySSKhwmKGZiIj2EtdsepeYJhIJGIZaXl5z3euFywWXCz7fww/jzx71FeD64Mccn/zC8frbdsmyRNOwtMSVGyIi2ktMNj1nfaCRkRH4fMhkUCigUFBLS2vfsUZ97gEAnw8uF5xONTTUeOtWquHG65VkEg2n/BEREe0Ak02v2DjQBIMIBlVf39p7MT8vZ8bM1z1X/OV3WtPD2SNHsJPco2lK0xrvWIvhhoiI9haTTZfbVqABYFkyPY1EQjkcEo1ienrjqCGmaQcdZDLAprlHnE5oGjQNfn+TRZ1QSM6fZ7ghIqI9wGTTnbYbaGytD0xoTkwTmQxSKaRSamWlctHtrqWcwcG176iFm3h8538uERERk00nMU1ZWIBhoFDAwEDlot3oYvvVW8w3fvP8P/m2cfSZbQQaWywm0SiKRTU2JrHYnq2diGnaEQeplCqVKhe93lrKWf2L2eGG46WIiGg3mGzWsCwZHkahUH3sbvuY3f1gGGIYSKWwvLzxX8YHM4REEMYAKoFmASMGggaCBfS53bJhDKr2wIhgbq4yMEHX0eLAhB2QZLIScRYXaxf9fvvjVpo2MyP3389wQ0REO8dkU2PHmmx2zQPV65VqytmrZYxW5HKSTsMwsLBQ+UMdDtE0e/2l8jcR0yz9SeLab9RWaH5w+8hjdwR+8NbgNx+tLITk81hZaemvvbOBCTsjllVbyFltzbGbch496v/El7Sc08dwQ0REO8BkUxMMysKCGhmRhQWVTIr95F1crD1c/f5KytG0bTxxxTRRLDZe3cTjj8t3voNvfxs/+lHlj3jDG8Tnw7vfjbvvrvtDDWO7PTQATFMKhcqvU6nKL+wmYJ8Pc3Pb+JfaQ5LL1VLOalNOHu4UtNsm/Hf/vra+KYeIiGgzTDYV4bAkEsrjkVRqzdqMZVUiTiqFpaXKdaeztpCz2bqCWBYSCei6ymYbX9sjLQaaDlJtynn1f6SufXFtU04goIaH195ORETUiMkG2DzWNMjlaimnWuJxu2spxy7liK7DMNTCgn2DnDhRa2mpUyggn8elS7h0qXbx9ttxxx0YGKh1w2xsYKCbAs2GfviFR772W+lfeiXlR6UpRwIBzM5yCYeIiJpgsmk11jQwzVrKKZUUAA3JSF/il583rn+lCED6+xGJIBhseBJX9zdVG3r6+ysNNPvXutuh7NmZV5UKn/tg8sOPnbY7cmRmBlNT3Z3qiIhox3o92czOysmTqr9fMpltxJp6ksvlTydcht5XXAZQhENHWEfY6ffVN+Ws39/k8YjdDrxZPYuwdjD4f/qF+A2/N61KJXE6EY2qSKTxbiIi6nk9nWzicZmYUA6HpFLbjhdiWVhYQCxWbaORkZHnfi30P28cXd+UUyzWfvOREQkGoWkHtAupC5imhMNYWlJut5w/a939t3OIxVSpJG434nE23xARUb3eTTY7jjViGND1WhuNx1OpOq2tj9Q35QBgvWk3LEuiUZw9qwBMTUk0nHPOnlbnzwMQvx/xOJtviIjI1qPJZgexpjKvQNdVcbWNJhxGOMxn6oFJJiUcxsqKcrslHoeGFKJR+9A/mZrCzAybb4iIqBeTjWnK8eMKwMWLsmWskVyuUnVaXgYgDgeCQYTDLIIciobFm5kZuAwd0ahaWRGnE5GIikYb30NERL2k55KNacrwMIpFde6cjI9vGmsqbTS6rtLpypWREQSDanx87Y10CBoXb3wFxGK15pvZWTU62vgeIiLqDb2VbFqJNWIYlRN+7aqTx1OpOrHS0U42WLxBAZFIrflmdlYNDTW+jYiIul0PJZsmsUZyOaTTa47X6++vVJ34dGxjDYs3w8NKTBORSKX5JhTC7CwjKRFRT+mVZGNZMjSE5WV15oxMT1dijZgmFhZgGLWd23ag0TSWMzrF+sWbvj4l8/OIRKrNNzzZj4iod/REsqkO8R4bk0RCVepNqVRtoqRdctI0rtB0qPWLNwBkZqbWfBONqnC48W1ERNR+TFOKxcrAZqeVu/qvUpMXJxpv2lz3Jxs71hSz+X//S6mPvX6hWm/CalMwNI07t7vAxos3loVoVJ09C7v5ZmaGm9qIiA5dfXYBkMmgUEChUJs7BEBDcgpzQSwAkMuXW39Sd3myKaYvPvChC3c9Y/hQV2/SNASDrDd1pY0Xb3I5hMO15puZmdb/H0JERDvQSnZZz+ORW26w7n1xIZQ7bc8seunm/qc/PjMQ7fk1m43rTcEggkHWm7rehos3ACSZRDjM5hsiov1Tbf9ofGGVxyMuF1wu+HwA4PPB/sehISW5HBIJxGKVvckjI4hEdrDQ3j3JZv3+JgALGPmbnwv89tc1l++2unup+224eANAZmcRjVbGajLfEBHtKZ9Pslnl8cjAwAbZpfHuVZJMIpFQiQQAcTgQDiMS2fHiescnm0rEa9jfpGlnVwKR1H0ej6RSOxziTZ1u08Uby6qd7Md8Q0S0R8JhSSTUiROSTrf62BVdr86Wlv5+RKPr5zBuVwcnG8nlcPq0HfGwtt5kf7iMNYQmizfMN0REe2dbT16xLMzN1QpPJ04gEtmz/ldpqpV7Dl758uVyKCSAAOX+/vK5c+XLl6uvnjlTBqS/v3zlSrnuTdS7rlwpT06WAQFkamrNF0b5ypXyqVNlh0OAstNZnpkpX7lS91YiItraqVNlQDyerZ+85YsXa09wh6M8Nlb/BN8TW6SWdks26zNNww3nzpUBcTjKFy9u8eFSr3nkkXJ/fxkQt7v8yCNrvjyYb4iIdqz65L18udmTtxyPl/3+2hP8zJl9+k7bMdWo+tqTXYpbP5wyHpeJCeVwSCrVrFOJelZ9543fL1htbbNd96J116Nzd34vduTl0qs3OJ/4tcgTH5h87aZafcrr3XqJlYiop2z55K0UnnTd3q0sJ04gHF7/BN9DHZBsWsk0aOHDJbJVO28aXwAAuGBFEIsg5kSpAGcMkTlMFbBp/43TKdX+/1hs49+TiKgrmaYcP77pk9d+fNcmTI+NIRI5gLNX2jrZtJhpsPrhArh4UdZ/uETrWZbY50c1sI+Tstdv7no0duTl0ovXOVO+yJ9cNfn8NY35JpNBqVT7evN6JZnkug4R9YRmc6YNA7GYSqdhP77tXdwHtkWjvjS1Xiv37Ict+2nqXbxYdjrLgJw716zCR7RdrfffXLlSHhkpA+L1sseLiLrfZk/ecjxedrsrj2+Pp/nje59skVoOPtlsK9PI5h8u0V5pPd+MjZUBcToZboiom125UvZ6y4CcOVP5Xle+cqU8M1PLNGNj5UceWfumg9NG1agWa0+5nGSzyGSQSiGTQbGoAKxfCiPaWy2efzM7KydPKqdTZmfBr0ki6j7V+QljY5JIqMaTacbGEI3u+PjgPdEWyaZ5ptkwytgcDvH5EIlgdJSPEDoIreSbeFwiEZRKanZWIhF+ZRJRV7HnJ4yNiR7N157dDgcikQNtptncISebDTPNllFG0+DzwefD4CAfG3QItsw3pimahlJJhUKi6/wqJaIuYR80PHH84n95+9nas/uAG4S3cmjJpj7TvPqm/qX7Zr7+M+OMMtRBmucb05RwGEtLKhCQeJwbpoio44XDspxI/dENp9/5fBob1VjaxCEkG8nlnvt3p2/6WgLA09f133/VzOdfnKi+yihDnaUx3wSDmJmxa8yWJZqGpSXF3eBE1OkeCsSPXUhoSAMHcdrebhxcsjFjyYKRPnopc+fTCwCW0R9FVMc4owx1gfp8A0D8fkQiKhgEEArJ+fPK6ZRkcoOTrIiI2pzo+nO/E73pp8sAXnzXiSOfjqrh4cab2sk+Jhsrd+XSF9IvPZx25jJDxXT1+orq/29vmXnpw+OMMtR9JB5HLKaWlgCI241IBKFQJOo6e1Y5nTI/Xxs2TkTUzhqmIjxwzdhQYuptHzneeF/72eNks7J4efl8Gqn065/M3PFStnr90hHPP7zJB83vDmn9J26rewdRF5JkErquzp8HIE4nwuGvvmnyQ797G3hCARG1vYaN3AmM/fGNM+cXBztl1XkPks0PHrz4zFfSR76XvuPplAvF6vWM88SLb/VB89/xca1v8FjdO4h6guRy0PVqierH/zwQNie/8cI9U1PCCVNE1IbWbFh2OJ7+cOTOL02tlI511o9kO0k2Vu5KfiFbMNKuTKq+zFSE47E3ai/c7nMG/MdP3lP3DqLeJZYFw0A0qlZWACwr94xEj3545PMPMu4TUbsQ08TcXP1G7qV7pvyBvg3HQrW5VpPNyuLl//eX2ZceTr/xsVR9memJq/tzbu3ad3kdI1pHlN+IDoskk4jF1IULAApwPnhz5CMPj7l8LM4S0WGSZBKnT9emV0ajany8etDwmTMyPd1JsQZbJps+5ZzF299z9RO3vrZcvXjpiOept2rXvdd/y6/62DRDtC2Sy738h7HX/qt+wz+WAPz0/aFj06E232hARF1JLAunT6u5OWDNRu6G+QmNb2t7WyQbpZT9csZ5wvJqzoB/aHyofc4ZJOpQYlkP3Bt/99/MubECQLxeRCIqHG68j4hof0gyifFxtbws/f3Q9fqfr6rzEzox1qCVZDOAW3LyROMLRLRrs7OyeNL47atj735tEcD6g4yJiPbcmqWayUlEo/Xfc+z5CSdOSDrdkbEGrSQboLGDmIj2ij0+81gp/xfvjL7tklE56C8UwtSUGhpqvJuIaHeaLNVgNdZ4PJJKdfCx6Uw2RIesOj7z4x++8rnb56Dr9i4q8fsRDrNERUR7ovlSDYCZGbn//o6PNWCyIWoHDeMzXYYOXVeLiwDE7UY4zBIVEe1G86UaAPG4TEwoh0MymY6fDcBkQ9QW1o/PFNNELFY7yLhu1iYRUYu2XKpBXaxJpbphvB2TDVEbWT8+s8msTSKi5rZcqrEsSacxOto9sQZMNkTtZmpK7PGZuo5gsPZdZsNZm+t/9iIiwiZLNZYl2SwyGeTzyGSQyaBYrHyT6biDhptgsiFqO/bKMAC3W4JBhEK1H6TWz9rE1BRLVERUr7pU89LN/V//QPw71ww35BibwyE+H3w+aBpGR7sk1oDJhqg9JZOi6zAMlEoKgNcr4TBCocqGhYZZmxIIYGpq/TozEfUOez3m+9+1fv6r92uZOQBzmIwiWkBlZbeaYwYGYP+iozdANcFkQ9S+LEsMA7qOxcXKN6BAQIJBhMMK9mpz3axNcbsRjSIQYImKqOttWFfSkIxjfADLy+j/5PXx535huBdyzHpMNkQdIJcTw0AshpUVBcDprFSphocV7JXn1VmblYOMQyGWqIi6j2XJ6dPQ9ca60q03XfmM4/5ff3IOwN/fN3njH8/0DR6rv6GnMNkQdRLTFF2HrleqVG53pUo1OKgkl0MsBl2vHWQc4qxNou5hmjI+jmxWNdSV3vFs8qbJiSYboHoNkw1RR5qfF13HhQuVn9u8XolEEAjAhUKlBccuUXHWJlFXiMdlehrFohobk1hsteVuow1Qje/sPUw2RB3MbsSJxbC0VIk4gYCEwwgGlczPIxarHGTMWZtEncwe5+RwSCyG6t7sLc+q6VlMNkTdIJerVKmqjTh2lcrnyiMahcFZm0QdKZeT0VFks6q/Xwyj7gBPLtVsjsmGqKs0bBd3uyUSQVCz3POctUnUYebnZXwcxaIaGRFdX61AcalmK0w2RN0pHhfDqDXi+P2iaXj/T+Nv/quEK8tZm0TtLhqV06cVgDNnZHpaAZBcDtPTamEBXKppismGqJtZVqVKVW3EAeCDGUEshPMAnr3a+ddvCi6Nnir2Dfp8cLngdHbJ7BiiDmVZMjqKdHrNLCeJRhGLqWJRPB7EYlyqaYLJhqgnmKbYJ3oByGRQKOAff2Ld+/25CGJOlACk4I8hsoDarE2vV1wuuFzw+QCAuYfoACSTMjqKYlGdOCGGgb4+VSs/ORyIRtX0dON7aC0mG6Jel4+e+5kvzt10eQmA5XT/+c9NzTtCTz7fV7/Ms57XK5qGmZkeOtiUaL/FYpXC06lTcvq0WlN+GhtDLMbyUyuYbIgIsNsSN5q1aZpSKKBQWLPeUyhUylter8TjXMUh2i3LkvFxLCwoh0N0HaOjiuWnHWOyIaKa1mdtWpZEIjh/XjmdMjtbO2ODiLbLNGV0FMvLyuMRw8BAPsXy024w2RBRo9ZnbcbjEomgVFJTUxKLMdwQbVv1cOHJSYlF8iw/7R6TDRFtqpVZm6YpwSBWVpTXK/PzGBxkviFqiWXJ9DSqhwuHl0+z/LQnmGyIaAtbztq0LAmHceGCcjolHsfoKMMN0Raq4y09Hvnqv0m+5Q8mWH7aK0w2RNQSsazmszZnZ+XkSQVgZkaiUYYbok1VDxeeHr386ZdPXvsNlp/2EpMNEW1P46zN1V1UAExTNA2lkvL7ZX6eG8KJNhCJyNycAvDd90bv/B7LT3uPyYaIdqKxRLU6i8qyJBjE4qJyOiWZ5IZwohrLkuFhZLPqg2945PzVE9c9xfLTvmCyIaJdkXgcut6whBPVB+6/XwGYnZVIhOGGqHK4cF8x/+Abp+98muWnfcRkQ0R7YP0Szt++PfSe8+FSSQUCEo+zMkU9zR5vOYPo714XO/oyy0/7i8mGiPZS/RLOazc5H7wu/KmfTIl7YH6elSnqRfbhwsWFlK7G3cLy00FgsiGivdewhJOC/8tHQ+/6bJhHFVNPMU35rffnfufJk0Gw/HRwmGyIaB/VL+EU4Hz0beFffGDS5but8T6irvP1L175Px87+4mXYy6w/HSgmGyIaN9JLvfj34sd/bJ+U7kE4MVf9B/5eLj+LByibiKW9b2PzL3tmzEXiq8cdVzzH1l+OlBMNkR0QCxL/vx98du/m/Bjg7NwiLqAWBbm5l74g9gNrxaLcLzwm5E3fjrC8tMBY7IhogM1OytnT+YjiP3mtfrRV9achdN4K1HnsDONzMauKhWLcDzwhsi//ObUgO9Y4320/5hsiOigVYdofurWc5+6NXHNd+uWcEIhNTTU+AaiNmZnGnuYZUk5ZiXy2L+Y+twDfTzp4LAw2RDRIag/qvgbn8vd9ehc7SwctxuRCAIBVqmozdVnmlevd3zmtcgfvhwZm3TZwxPosDDZENGhmZkR+6hie4imxOMwDHXhgv2qXaVCIMA2BWo39ZlGHI7v3Rn5lW9FCug7d054tMGhY7IhosOUTEowiPqjiitDxXVdLS3BrlIFgwgGVTDY+GaiA9eQaRCJfPKHU3/6pWMOh6RSPI6yLTDZENEhsyzRNCwtKadTgsFKjAEgpgldh2GolRXYVapgkI04dFjWZ5pCeGp4tC+bVR6PGAYGBxlr2gKTDRG1hZkZ0XWsrCgAjRFnfh6GAcOoNOJ4vZVeY1ap6ECszzSIRDJ51+golpfVyIjoOiejtREmGyJqI6Ypug7D2CDiiGXBMKonGgOQQADBILeL0/7ZMNOovr75eRkfR7GoJieF/cLthsmGiNpRs4iTy8EwEItVqlR2I04oxKPraQ9tlmkAxGIyPa0AsF+4PTHZEFFbaxZx7Eac+u3idpWK28VpF5pkGgDhsCQSiv3C7YzJhog6Q7OIMz8PXa9tF/d6KyfisBGHWiO5HJaXkUohn4dhbJhpLEuGh8F+4fbHZENEHWaziBPwFypVqqUl+04JBODzQdOUptX/DnRY5uclm4XPB7f7MBc81uSYfF6l02teXZdpAJimsF+4UzDZEFGn2jTiePOVKtXKSvVm8fvtlAO/n2s5hyIel4mJNYHA65WBAfh8+5t1mucYANLfj4EBaBoGBjAwsL5hi/3CnYXJhog6XrOIk0ohlUImU13IgV2uqqYcNuUcCNOU4WGIIJNBPl/730wGpVItK+w+6+w+xzRgv3DHYbIhou7REHHquWBpSN17bequoxlfsbJvHMCzVzszLu3H/9T/zB3+Z352zRmALhd8vvoLcLvZXbETuZwMDUEEG3bdWpbYEWcHWWfPc0wD9gt3IiYbIupCdsTJZNZcrH9kakhqSPmQ0ZByolS9JwV/CloKWhbeAjYoWnm9EgwiEOBzrlXVxtuHHpLR0ZY+tC2zzjtfn7vv6oW7LiVc+Wzd+3abY+qxX7hzMdkQUU+zLHn8q2ZfNnXj/832ZVNHnqm15jx1szc/oOXc/qdv9hb7BgEYBpaWKk84t1s0rXZQMm1G0ySdVrss5dhZ50f/K9e3uOC5mHjL85VAk4XHQDCPgTwGUhj2esXlqi22+XxwueB0bjuGsl+4ozHZEBHVSC6HTMbuzlnTmuN2Q9Pg8z11s/ebL2mGgQsXak+7QECCQfj9/Mm+kV3NGRuTRGLnn4zkclhYgK6rbCXQiMfzwgdD2cHgo88MFgrIZFAooFCo5c4NtZh72C/c6ZhsiIg2JpZVSzmrIx0qL3m98PmWrvL+xZO+P3tMq7b1sFZVb3ZWTp5UIyOysLCTT2PDQINwGMFg875v0xQ76NjlyG3lHgDptAL7hTsZkw0RUUvENO1tVli70wrAC7d7Lx31fesfvH/51FAaGlirWt3j7fFIKrW9as6OA02Ltsw97BfudEw2REQ7Iclkpbt1XdC57PAulnwZ+DLwpaH1YK2qusc7n2811ux3oGmRaYrL1UP/pboSkw0R0R5oEnQy8Nop59k3e2/9Da3ra1XN93g3aJNAQ92EyYaIaO81DzqP3+B75ee9/SO+u39/uP6lLtDiHm8GGto/TDZERPvODjrPfTvz6v/OHPv7WtApwPl3bw4iNHb3p+6pu72DNd/jzUBDB4DJhojooEky+XdfNIvprDdnOKQEYFm5L3rC139i7L3/+rbGuzvH+j3eksshm4W9xSyTUcVi5ToDDe0bJhsiosP0o8889PxnE57cBfsfl67yPnrX1M9+PPC+3zi29sZ2Z+/x/uh7Lv/nf7u0PsoAEIcDPl9lwxgDDe0bJhsiosMnlrU8N3/NZ+du+UmlVvXfXxf40d0h92SwzfeN26syGT1TXEgdvyrjKK+LMppmj31imqGDwWRDRNRGJJd7+tP6dQ/qx55dAVCA84Frw0/dO/aOjw61ScTZrMAEoHyTQw0xytAhY7IhImpHkkxeOaNf/y3j6CslAHm4//TI1Ku/Erj7Xw0ecMRpEmXE4XjpDt9cVlu6yvsfvuL7Z+/r4CYh6hpMNkREbU3i8WLCcKUrjTgp+L98NIRA4L0f6tvziCOWhWy2ckBvPm/P2t6gV2Z1VabgGmhljzfRQWKyISLqAGJZ0PUXP69f//gSgAKcBoLfuj5w7a8HdzbDQUwTxSLs4QKpFACVTjfetC7KNBSYmu/xJjoUTDZERJ1ETBO6/spXjOueXgGQh9tA8Gs3jr35A0MbRpwNlmHyebW83HAbAOnvx8BAZQS2zweXSw0PN95UZ/0eb6J2wGRDRNSRZH4ehlF+yLj6uRKADLw6wo/f4P3oOzLDQ0VXJoVNlmEAyIkT1fgCnw8DA9vt9t3lHG+i/cNkQ0TUwcSyYBjQdbW42Pja9pdhWrTjOd5EB4DJhoioG0guB8NAofDXP3Q+8H3fhaXBPAadTgmHMTW1l8OrdzDHm+ggMdkQEXWhXE5iMeg6SiUFwO+XcBjh8G6DyLbmeBMdCiYbIqJuFo+LrmNxUQHY5RJOi3O8iQ4Xkw0RUffbkyUc7vGmjsBkQ0TUQ3a8hMM93tQxZFXjC0RE1LUGgBhQAAQQIAmEGm9ZIwIIYDReJjps1RhTyzO1XxERUc8JA6nVfGMBs8BAwx1AGBAgA7gaXyE6bHWRpoLVKCKiXtekC4d7vKnjMNkQEVHF+i4cXeceb+owTDZERLRGwxIO93hTZ2GyISKijcXj4nKBsYY6C5MNERERdY+rGi8QERERdSwmGyIiIuoeW1SjiIiIiDoI12yIiIioezDZEBERUff4/zUeXbAi44McAAAAAElFTkSuQmCC\" />\n",
        "\n",
        "Маленький Мерлин хочет стать метеорологом. Он измеряет температуру воздуха каждый час, так что через несколько дней получается длинная последовательность значений.\n",
        "\n",
        "Однако инструменты его несовершенны и измерения не вполне точны - они \"скачут\" вверх и вниз на несколько градусов от реальных значений.\n",
        "\n",
        "Обнаружив это, Мерлин решил \"сгладить\" данные. Чтобы достичь этого, каждое значение нужно заменить средним от трех - его самого и двух соседних (предыдущего и следующего). Например, если у нас последовательность из 5 значений:\n",
        "\n",
        "```\n",
        "3 5 6 4 5\n",
        "```\n",
        "\n",
        "То второе (5) должно быть заменено на (3 + 5 + 6) / 3 = 4.66666666667,  \n",
        "а третье (6) заменяется на (5 + 6 + 4) / 3 = 5,  \n",
        "четвертое же (4) заменим на (6 + 4 + 5) / 3 = 5.  \n",
        "Договоримся также что первое и последнее значения мы не меняем вовсе.\n",
        "\n",
        "На картинке выше синяя линия изображает необработанные результаты измерений, а красная - данные после сглаживания.\n",
        "\n",
        "Напишите программу, которая поможет малышу Мерлину с его хитроумным алгоритмом цифровой обработки сигнала.\n",
        "\n",
        "**Входные данные** указывают длину последовательности (n >= 2) в первой строке.  \n",
        "Вторая строка содержит результаты измерений (значения последовательности).  \n",
        "**Ответ** должен содержать \"сглаженную\" последовательность. Значения нужно сосчитать с точностью 1e-7 или лучше."
      ]
    },
    {
      "cell_type": "code",
      "metadata": {
        "id": "dNyPwsX2shk3"
      },
      "source": [
        "# Ваш код здесь"
      ],
      "execution_count": null,
      "outputs": []
    },
    {
      "cell_type": "markdown",
      "metadata": {
        "id": "7SzaHCW8u61O"
      },
      "source": [
        "## Задача 17. Гипотеза Коллатца\n",
        "\n",
        "Гипотеза Коллатца - одна из наиболее таинственных загадок математики 20 века. Её описание понятно даже школьнику, но даже выдающиеся ученые не знают её доказательства. Зато она может служить отличным упражнением для программистов.\n",
        "\n",
        "**Пусть** мы выбрали некое исходное число `X` и строим от него последовательность значений по следующим правилам:\n",
        "\n",
        "```\n",
        "если X четное (т.е. X mod 2 == 0) тогда\n",
        "    Xследующее = X / 2\n",
        "иначе\n",
        "    Xследующее = 3 * X + 1\n",
        "```\n",
        "\n",
        "Таким образом если `X` нечетно, последовательность растет - а если четно, то убывает. Например, с `X = 15` мы получим:\n",
        "\n",
        "```\n",
        "15 46 23 70 35 106 53 160 80 40 20 10 5 16 8 4 2 1\n",
        "```\n",
        "\n",
        "После достижения 1 последовательность зацикливается `1 4 2 1 4 2 1...`.\n",
        "\n",
        "Интрига заключается в том, что для любого начального `X` получаемая последовательность, по-видимому, рано или поздно достигает `1` - однако хотя это предположение было высказано как гипотеза Коллатца еще в `1937`, до сих пор никто не смог ни доказать её, ни найти контрпример (т.е. число для которого последовательность либо входит в другой цикл, нежели `1 4 2 1` - либо растет бесконечно). Может быть повезет вам?\n",
        "\n",
        "Ваша задача - для заданного исходного `X` посчитать сколько шагов требуется чтобы дойти до `1`.\n",
        "\n",
        "**Входные данные** одно целое положительное число.  \n",
        "**Ответ** должен содержать количество шагов необходимое для достижения 1."
      ]
    },
    {
      "cell_type": "code",
      "metadata": {
        "id": "QLX-j42Zu-cR"
      },
      "source": [
        "# Ваш код здесь"
      ],
      "execution_count": null,
      "outputs": []
    },
    {
      "cell_type": "markdown",
      "metadata": {
        "id": "8PIRiTQ0wdT4"
      },
      "source": [
        "## Задача 18. Подходящие Слова\n",
        "\n",
        "**Али-Баба** нашел тайную пещеру с сокровищами, которые хранили **Сорок Разбойников**. Однако знаменитая волшебная фраза **\"Сезам, откройся\"** явно не работает.\n",
        "\n",
        "Вместо этого на каменной стене начертан длинный и странный текст - и Али-Баба догадался, что в этой надписи нужно найти подходящие слова (то есть те, которые встречаются более одного раза) и произнести их в алфавитном порядке.\n",
        "\n",
        "Мы должны помочь бедному ремесленнику получить доступ к сокровищнице воров. Напишите программу, которая отсеивает необходимые слова из заданного текста и печатает их в нужном порядке.\n",
        "\n",
        "**Входные данные** состоят примерно из `300` слов, каждое из которых состоит из `3` латинских букв. Конец обозначается словом `end`.  \n",
        "**Ответ** должен содержать все слова, которые встречаются более одного раза в лексикографическом порядке, через пробел."
      ]
    },
    {
      "cell_type": "code",
      "source": [
        "# Ваш код здесь"
      ],
      "metadata": {
        "id": "KX9sFY6TyWG2"
      },
      "execution_count": null,
      "outputs": []
    },
    {
      "cell_type": "markdown",
      "metadata": {
        "id": "krGYJHYByobc"
      },
      "source": [
        "## Задача 19. Средняя температура с потерями\n",
        "\n",
        "У вас есть прибор измеряющий температуру окружающей среды. Прибор отсылает данные на сервер, который хранит данные полученные за весь период в виде строки. В качестве разделителя измерений используется символ `;` (точка с запятой).\n",
        "\n",
        "Периодически в полученных данных обнаруживаются ошибки, в этом случае сервер игнорирует их, но разделитель всё равно добавляет. Например данные могут быть такими:\n",
        "\n",
        "```\n",
        "12;15;9;;0;-3;-7;;;-7\n",
        "```\n",
        "\n",
        "Рассчитайте среднюю температуру за весь период.  \n",
        "Если данные пропущены, просто игнорируем это измерение.\n",
        "\n",
        "**Входные данные** Строка состоящая из целых чисел и разделителя `;`. Строка завершается символом перевода строки (`\\n`)  \n",
        "**Ответ** должен содержать одно число."
      ]
    },
    {
      "cell_type": "code",
      "source": [
        "# Ваш код здесь"
      ],
      "metadata": {
        "id": "Br51YCbIyqW0"
      },
      "execution_count": null,
      "outputs": []
    },
    {
      "cell_type": "markdown",
      "metadata": {
        "id": "dhWL0z6i41dZ"
      },
      "source": [
        "## Задача 20. Список уникальных пользователей\n",
        "\n",
        "У вас есть сервер, на котором зарегистрировано $n$ пользователей. Вам известен список логинов.\n",
        "\n",
        "Кроме того вам известен список из $k$ заявок от пользователей, которые пожелали зарегистрироваться. В этом списке могут быть заявки как от старых пользователей, так и от новых, при этом они могут повторяться несколько раз.\n",
        "\n",
        "Определите список уникальных пользователей, которых нужно зарегистрировать.\n",
        "\n",
        "**Входные данные** На первой строке число $n$ затем, с новой строки список строк разделённых пробелами. На третьей строке число $k$ затем, с новой строки список строк разделённых пробелами. Строки состоят только из строчных английских символов и цифр.  \n",
        "**Ответ** должен содержать список уникальных логинов пользователей отсортированных в лексикографическом порядке и разделённых пробелами."
      ]
    },
    {
      "cell_type": "code",
      "source": [
        "# Ваш код здесь"
      ],
      "metadata": {
        "id": "buXcEGyy5BPH"
      },
      "execution_count": null,
      "outputs": []
    },
    {
      "cell_type": "markdown",
      "metadata": {
        "id": "6ZHSGOQc9AET"
      },
      "source": [
        "## Задача 21. Самое частое число\n",
        "\n",
        "Дан список целых чисел. Определите, какое число в этом списке встречается чаще остальных. Гарантируется, что такое число только одно.\n",
        "\n",
        "**Входные данные** Число $n$ затем, с новой строки список из $n$ целых чисел, разделённых пробелами.  \n",
        "**Ответ** должен содержать одно целое число."
      ]
    },
    {
      "cell_type": "code",
      "source": [
        "# Ваш код здесь"
      ],
      "metadata": {
        "id": "9ANVLZBA9Df0"
      },
      "execution_count": null,
      "outputs": []
    },
    {
      "cell_type": "markdown",
      "metadata": {
        "id": "QJF-jvJsPSdC"
      },
      "source": [
        "## Задача 22. Количество нуклеотидов в цепочках\n",
        "\n",
        "![](https://upload.wikimedia.org/wikipedia/commons/c/cd/RNA-codon.png)\n",
        "\n",
        "Дана последовательность нуклеотидов РНК. Каджый нуклеотид обозначен одним из 4х символов [G, U, C, A]:\n",
        "\n",
        "```\n",
        "Например: AUCCUCUAGАААUUAAGAUAA\n",
        "```\n",
        "\n",
        "Тройка нуклеотидов называется **кодон**. Кодон - это единица генетического кода (т.е. пол кодона не бывает).\n",
        "\n",
        "Указанная последовательность кодирует некоторое количество полипептидных цепей, каждая из которых завершается стоп-кодоном.\n",
        "\n",
        "Стоп-кодон - прекращает синтеза полипептидной цепи. Стоп-кодон кодируется одним из следующих триплетов: UAA, UAG, UGA. Т.е. каждый из них - это стоп-кодон.\n",
        "\n",
        "Определите, сколько в заданном фрагменте РНК кодируется полипептидных цепей и выведите на экран сколько нуклеотидов в каждой из них. При подсчёте количества нуклеотидов в цепи, нуклеотиды входящие в стоп-кодон не учитывайте.\n",
        "\n",
        "Гарантируется, что в конце исходной последовательности есть стоп-кодон.\n",
        "\n",
        "```\n",
        "Исходная цепочка: AUCCUCUAGАААUUAAGAUAA\n",
        "Полипептидных цепей: 2 - AUCCUCUAG  АААUUAAGAUAA\n",
        "Ответ: 6 9\n",
        "```\n",
        "\n",
        "**Входные данные** Строка состоящая из символов [G, U, C, A]. В конце строки символ `\\n`.  \n",
        "**Ответ** последовательность целых чисел через пробел."
      ]
    },
    {
      "cell_type": "code",
      "source": [
        "# Ваш код здесь"
      ],
      "metadata": {
        "id": "380u16ptNs1I"
      },
      "execution_count": null,
      "outputs": []
    },
    {
      "cell_type": "markdown",
      "metadata": {
        "id": "tsj2PEum2T4J"
      },
      "source": [
        "## Задача 23. Таблица умножения\n",
        "\n",
        "Выведите на экран таблицу умножения размером $row$ строк и $col$ столбцов.\n",
        "\n",
        "**Формат ввода**\n",
        "\n",
        "Два целых числа в порядке $1 \\leq row \\leq 31$ затем $1 \\leq col \\leq 31$ разделённые пробелом.\n",
        "\n",
        "**Формат вывода**\n",
        "\n",
        "Таблица умножения отформатированная в соответствии с примерами.\n",
        "\n",
        "**Пример 1**\n",
        "\n",
        "```\n",
        "Ввод: 1 2\n",
        "Вывод:\n",
        "    |   1   2\n",
        "   ----------\n",
        "   1|   1   2\n",
        "```\n",
        "\n",
        "**Пример 2**\n",
        "\n",
        "```\n",
        "Ввод: 4 4\n",
        "Вывод:\n",
        "    |   1   2   3   4\n",
        "   ------------------\n",
        "   1|   1   2   3   4\n",
        "   2|   2   4   6   8\n",
        "   3|   3   6   9  12\n",
        "   4|   4   8  12  16\n",
        "```"
      ]
    },
    {
      "cell_type": "code",
      "source": [
        "# Ваш код здесь"
      ],
      "metadata": {
        "id": "EqIDuh6s2T4K"
      },
      "execution_count": null,
      "outputs": []
    },
    {
      "cell_type": "markdown",
      "metadata": {
        "id": "ltjznoFCzvSi"
      },
      "source": [
        "## Задача 24. Вывод чисел волнами\n",
        "\n",
        "Дано целое положительное число $N$, выведете на экран последовательность от 1 до $N$, так чтобы ширина \"ёлочки\" росла волнами. Например, для N=49 получим:\n",
        "\n",
        "```\n",
        "1\n",
        "2 3   --сначала до двух\n",
        "4\n",
        "5 6\n",
        "7 8 9 --потом до трёх\n",
        "10 11\n",
        "12    --возвращаемся к одному\n",
        "13 14\n",
        "15 16 17\n",
        "18 19 20 21 --тут уже четыре\n",
        "22 23 24\n",
        "25 26\n",
        "27\n",
        "28 29\n",
        "30 31 32\n",
        "33 34 35 36\n",
        "37 38 39 40 41\n",
        "42 43 44 45\n",
        "46 47 48\n",
        "49\n",
        "```\n",
        "\n",
        "\n",
        "**Формат ввода**\n",
        "\n",
        "Одно число $1 \\leq N \\leq 1000$.\n",
        "\n",
        "**Формат вывода**\n",
        "\n",
        "Числа от 1 до $N$ включительно в форме волн.\n",
        "\n",
        "**Пример 1**\n",
        "\n",
        "```\n",
        "Ввод: 1 1\n",
        "Вывод:\n",
        "1\n",
        "```\n",
        "\n",
        "**Пример 2**\n",
        "\n",
        "```\n",
        "Ввод: 10\n",
        "Вывод:\n",
        "1\n",
        "2 3\n",
        "4\n",
        "5 6\n",
        "7 8 9\n",
        "10\n",
        "```"
      ]
    },
    {
      "cell_type": "code",
      "source": [
        "# Ваш код здесь"
      ],
      "metadata": {
        "id": "1hxqdUGzzyCz"
      },
      "execution_count": null,
      "outputs": []
    },
    {
      "cell_type": "markdown",
      "metadata": {
        "id": "aVVaaZ5lP9rg"
      },
      "source": [
        "## Задача 25. RLE сжатие\n",
        "\n",
        "Дана строка, состоящая из заглавных латинских букв A-Z. Реализуйте алгоритм [RLE](https://ru.wikipedia.org/wiki/Кодирование_длин_серий), который на выходе выдаст строку в сжатом виде.\n",
        "\n",
        "Принцип сжатия: если символ встречается 1 раз, он остаётся без изменений; если символ встречается более 1 раза подряд, к нему добавляется количество повторений.\n",
        "\n",
        "**Формат ввода**\n",
        "\n",
        "Строка, состоящая из $1 \\leq n \\leq 1000000$ заглавных латинских букв A-Z. В конце строки стоит символ `\\n`.\n",
        "\n",
        "**Формат вывода**\n",
        "\n",
        "Строка состоящая из заглавных латинских букв A-Z и цифр.\n",
        "\n",
        "**Пример 1**\n",
        "\n",
        "```\n",
        "Ввод: RRRRRRRWWWWWWWW\n",
        "Вывод: R7W8\n",
        "```\n",
        "\n",
        "**Пример 2**\n",
        "\n",
        "```\n",
        "Ввод: CPBBBZZGKA\n",
        "Вывод: CPB3Z2GKA\n",
        "```"
      ]
    },
    {
      "cell_type": "code",
      "source": [
        "# Ваш код здесь"
      ],
      "metadata": {
        "id": "okydMXRD0iPX"
      },
      "execution_count": null,
      "outputs": []
    },
    {
      "cell_type": "markdown",
      "metadata": {
        "id": "eBHwzD0D0fpG"
      },
      "source": [
        "## Задача 26. Заголовок столбца Excel\n",
        "\n",
        "Определите имя столбца Excel по его целочисленному номеру $n$.\n",
        "\n",
        "Например:\n",
        "\n",
        "```\n",
        "1 -> A\n",
        "2 -> B\n",
        "3 -> C\n",
        "...\n",
        "26 -> Z\n",
        "27 -> AA\n",
        "28 -> AB\n",
        "```\n",
        "\n",
        "\n",
        "**Формат ввода**\n",
        "\n",
        "Одно целое число в диапазоне 1 <= $n$ <= $2^{31} - 1$\n",
        "\n",
        "**Формат вывода**\n",
        "\n",
        "Имя столбца в верхнем регистре.\n",
        "\n",
        "**Пример 1**\n",
        "\n",
        "```\n",
        "Ввод: 2441\n",
        "Вывод:\n",
        "COW\n",
        "```\n",
        "\n",
        "**Пример 2**\n",
        "\n",
        "```\n",
        "Ввод: 12895\n",
        "Вывод:\n",
        "SAY\n",
        "```\n",
        "\n",
        "**Пример 3**\n",
        "\n",
        "```\n",
        "Ввод: 9193\n",
        "Вывод:\n",
        "MOO\n",
        "```"
      ]
    },
    {
      "cell_type": "code",
      "source": [
        "# Ваш код здесь"
      ],
      "metadata": {
        "id": "AaKMM5ET1N05"
      },
      "execution_count": null,
      "outputs": []
    },
    {
      "cell_type": "markdown",
      "metadata": {
        "id": "sB8Fqg5_1LeI"
      },
      "source": [
        "## Задача 27. Дождь над островом\n",
        "\n",
        "Дан остров в двумерном мире. Остров представляет собой набор столбцов различной высоты, состоящих из каменных блоков и окружённый морем. Размер острова $n$ блоков в ширину. Высота столбцов задана при помощи последовательности из $n$ целых чисел, каждое из которых указывает высоту столбца над уровнем моря в блоках. Столбцы перечислены в порядке слева направо.\n",
        "\n",
        "Над островом прошёл дождь, который заполнил водой все низины, а не поместившаяся в них вода стекла в море, не увеличив его уровень.\n",
        "\n",
        "По ландшафту острова определите, сколько воды осталось в низинах острова после дождя.\n",
        "\n",
        "<img alt=\"\" src=\"data:image/png;base64,iVBORw0KGgoAAAANSUhEUgAAAOsAAACRCAMAAAAVbb9AAAAAAXNSR0IArs4c6QAAAARnQU1BAACxjwv8YQUAAAAPUExURQAAANnZ2fLy8o6p2wAAAAd6/0EAAAAFdFJOU/////8A+7YOUwAAAAlwSFlzAAAOwgAADsIBFShKgAAAAU9JREFUeF7t2DFuAkEUREHW9v3PbPXXZAtGQjQyQ1WyQa+ApyGay8+LHLetN+pe1/p1i9YCrQVaQ2uB1gKtobVAa4HW0FqgtUBraC3QWqA1tBZoLVh3wdesN+qca4HW0FqgtUBraC3QWqA1tBZoLdAaWgu0FmgNrQVaC7TG/25d97rPsj617rHWdSJnx/ctb3uu61eeaQ2tobVA6x1aQ2toDa0FWu/QGlpDa2gt0HqH1tAaWkNrwWXd0e5jhV1xefIZrefZQ9+znmcP/Uu0Dq2hNbSG1tAaWkNraB1ah9bQGlpDa2gNraE1tA6tY8PW3aywK/yHh9bQGlpDa2gNraE1tA6tQ2toDa2hNbSG1tAaWofWoTXetvVz/HWu63n2povWsd2idWy3aB3bLVrHdovWsd2idWy3aB3bLVrHdovWsd2idWy3aB3bLZ9zP3wcv+Dwh8ZJOBB7AAAAAElFTkSuQmCC\" />\n",
        "\n",
        "\n",
        "**Формат ввода**\n",
        "\n",
        "В первой строк задано целое положительное число $1 \\leq n \\leq 1000 $. В следующей строке перечислены $n$ целых положительных чисел, разделённых пробелами. Каждое число не превышает 10^9.\n",
        "\n",
        "**Формат вывода**\n",
        "\n",
        "Одно число - суммарное количество воды в низинах острова.\n",
        "\n",
        "**Пример 1**\n",
        "\n",
        "```\n",
        "Ввод:\n",
        "5\n",
        "10 6 3 1 3\n",
        "Вывод: 2\n",
        "```\n",
        "\n",
        "**Пример 2**\n",
        "\n",
        "```\n",
        "Ввод:\n",
        "5\n",
        "4 10 5 10 10\n",
        "Вывод: 5\n",
        "```"
      ]
    },
    {
      "cell_type": "code",
      "source": [
        "# Ваш код здесь"
      ],
      "metadata": {
        "id": "j9PnPQFOP-DH"
      },
      "execution_count": null,
      "outputs": []
    },
    {
      "cell_type": "markdown",
      "source": [
        "## Задача 28. Анаграмма. 2 числа\n",
        "\n",
        "Дано два целых положительных числа без ведущих нулей. Определите, возможно ли получить первое число из второго перестановкой цифр.\n",
        "\n",
        "**Формат ввода**\n",
        "\n",
        "Два целых положительных числа без ведущих нулей разделённые пробелом. Числа по модулю не превышают 10^18.\n",
        "\n",
        "**Формат вывода**\n",
        "\n",
        "`YES`, если возможно и `NO`, если не возможно.\n",
        "\n",
        "**Пример 1**\n",
        "\n",
        "```\n",
        "Ввод: 1896 1968\n",
        "Вывод: YES\n",
        "```\n",
        "\n",
        "**Пример 2**\n",
        "\n",
        "```\n",
        "Ввод: 2670 3287\n",
        "Вывод: NO\n",
        "```"
      ],
      "metadata": {
        "id": "nzAjpL-MTMsX"
      }
    },
    {
      "cell_type": "code",
      "source": [
        "# Ваш код здесь"
      ],
      "metadata": {
        "id": "fPGcN5y9UGMg"
      },
      "execution_count": null,
      "outputs": []
    },
    {
      "cell_type": "markdown",
      "source": [
        "## Задача 29. Частота символов в тексте. Гистограмма\n",
        "\n",
        "Дан текст. Определите сколько раз каждый символ встречается в этом тексте и выведите эту информацию в виде гистограммы. Под каждым столбцом гистограммы выведите соответствующий символ. Символы должны быть отсортированы по возрастанию их кода в таблице ASCII.\n",
        "\n",
        "**Формат ввода**\n",
        "\n",
        "Строка текста состоящая из $1 \\leq n \\leq 10000$ ASCII символов. Текст завершается символом `\\n`.\n",
        "\n",
        "**Формат вывода**\n",
        "\n",
        "Гистограмма. Под каждым столбцом гистограммы выведите соответствующий символ. Символы должны быть отсортированы по возрастанию их кода в таблице ASCII\n",
        "\n",
        "**Пример 1**\n",
        "\n",
        "```\n",
        "Ввод: aaaaabbbbcccdde\n",
        "Вывод:\n",
        "#    \n",
        "##   \n",
        "###  \n",
        "####\n",
        "#####\n",
        "abcde\n",
        "```\n",
        "\n",
        "**Пример 2**\n",
        "\n",
        "```\n",
        "Ввод: wrei[ipw[[\n",
        "Вывод:\n",
        "#     \n",
        "# #  #\n",
        "######\n",
        "[eiprw\n",
        "```"
      ],
      "metadata": {
        "id": "H_Ffaarmbc_Y"
      }
    },
    {
      "cell_type": "code",
      "source": [
        "# Ваш код здесь"
      ],
      "metadata": {
        "id": "1yaekrLWUGpQ"
      },
      "execution_count": null,
      "outputs": []
    },
    {
      "cell_type": "markdown",
      "source": [
        "## Задача 30. На каком языке текст\n",
        "\n",
        "Вам даны три текста:\n",
        "\n",
        " - про первый известно, что он написан на английском языке и лежит в файле `trainEN.txt`;\n",
        "\n",
        " - про второй известно, что он написан на русском языке с последующей транслитерацией в английские символы и лежит в файле `trainRUS.txt`;\n",
        "\n",
        " - про третий известно, что он написан либо на английском, либо на русском (с транслитерацией) и лежит в файле `input.txt`;\n",
        "\n",
        "Определите, на каком языке написан третий текст и выведите `RUS` или `EN` соответственно.\n",
        "\n",
        "**Возможный алгоритм**\n",
        "\n",
        "Для решения этой задачи можно воспользоваться частотным анализом.\n",
        "\n",
        "Частотный анализ предполагает, что частотность появления заданной буквы алфавита в достаточно длинных текстах одна и та же для разных текстов одного языка.\n",
        "\n",
        "Поэтому для начала, для каждого из трёх текстов, нужно подсчитать количество повторений каждого символа, например при помощи словаря. Затем определить к какому из эталонных текстов \"ближе\", по частотам, текст на неизвестном языке.\n",
        "\n",
        "Как же определить меру близости получившихся словарей?\n",
        "\n",
        "Для этого можно воспользоваться векторной моделью. Т.е. мы представляем, что словарь описывает некоторый вектор, где каждый символ - это ось, а количество повторов - это величина вектора в направлении этой оси.\n",
        "\n",
        "Чтобы определить меру сходства двух векторов часто используют [косинусное_сходство](https://ru.wikipedia.org/wiki/Векторная_модель#Косинусное_сходство).\n",
        "\n",
        "<img alt=\"\" src=\"data:image/png;base64,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\" />\n",
        "\n",
        "Т.е. для пар векторов вычисляют косинусы углов между ними и выбирают ту пару, у которой косинус ближе всего к 1.\n",
        "\n",
        "Например для таких строк:\n",
        "\n",
        "```\n",
        "d1 = AAAAAACC    => {'A': 6, 'C': 2}\n",
        "d2 = ACCCCC      => {'A': 1, 'C': 5}\n",
        "q  = AAAAAAACCCC => {'A': 7, 'C': 4}\n",
        "```\n",
        "\n",
        "получаем, что `q` и `d1` более похожи, чем `q` и `d2`:\n",
        "\n",
        "<img alt=\"\" src=\"data:image/png;base64,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\" />\n",
        "\n",
        "**Внимание**\n",
        "\n",
        "- Тексты разные и каждый из текстов, может содержать символов, которых нет в других. Нужно убедится, что все 3 словаря имеют одинаковый список ключей, и если это не так, то добавить недостающие ключи с 0 значением для добавляемого символа.\n",
        "\n",
        "- При вычислении скалярного произведения (верхняя часть дроби) перемножать нужно значения с одинаковыми ключами (ключ - это ось, как `X`, `Y`, `Z` и т.д).\n",
        "\n",
        "**Формат ввода**\n",
        "\n",
        "Файл `trainEN.txt` с эталонным английским текстом, файл `trainRUS.txt` с эталонным русским текстом и файл `input.txt` с текстом для анализа.\n",
        "\n",
        "Файлы могут содержать любые ASCII-символы.\n",
        "\n",
        "**Формат вывода**\n",
        "\n",
        "Одно слово `RUS` - для русского языка и `EN` для английского.\n",
        "\n",
        "**Примечания**\n",
        "\n",
        "Для проверки своего решения, перед загрузкой в контест, можете использовать: файлы [`trainEN.txt` и `trainRUS.txt`](https://disk.yandex.ru/d/1IITrBKJIGMz0w),  этот сайт с [текстами](https://www.maminpapin.ru/skazki-bratev-grimm-na-russkom-i-angliieskom/) (тексты для тестов брались оттуда) и этот сайт для [транслитерации](http://translit-online.ru/).\n",
        "\n",
        "**Пример 1**\n",
        "\n",
        "```\n",
        "Ввод:\n",
        "The brothers' initial intention of their first book, Children’s and Household Tales, was to establish a name for themselves in the world.\n",
        "Вывод: EN\n",
        "```\n",
        "\n",
        "**Пример 2**\n",
        "\n",
        "```\n",
        "Ввод:\n",
        "Vliyanie skazok brat'ev Grimm bylo ogromnym, s pervogo zhe izdaniya eti chudesnye istorii zavoevali lyubov' detskoj auditorii.\n",
        "Вывод: RUS\n",
        "```"
      ],
      "metadata": {
        "id": "YB4lHoOdcHLy"
      }
    },
    {
      "cell_type": "code",
      "source": [
        "# Ваш код здесь"
      ],
      "metadata": {
        "id": "4cuQLX1cUHMA"
      },
      "execution_count": null,
      "outputs": []
    }
  ]
}